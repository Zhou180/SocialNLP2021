{
 "cells": [
  {
   "cell_type": "code",
   "execution_count": 2,
   "metadata": {
    "colab": {
     "base_uri": "https://localhost:8080/"
    },
    "executionInfo": {
     "elapsed": 11085,
     "status": "ok",
     "timestamp": 1622183694954,
     "user": {
      "displayName": "許桓瑜",
      "photoUrl": "",
      "userId": "07820383409841659888"
     },
     "user_tz": -480
    },
    "id": "g-6zk28npLuB",
    "outputId": "0258b0c7-7b9b-4c9d-e9d4-5a6a7681bcb8"
   },
   "outputs": [],
   "source": [
    "# !pip install emoji\n",
    "# !pip install transformers"
   ]
  },
  {
   "cell_type": "code",
   "execution_count": 3,
   "metadata": {
    "executionInfo": {
     "elapsed": 466,
     "status": "ok",
     "timestamp": 1622188431666,
     "user": {
      "displayName": "許桓瑜",
      "photoUrl": "",
      "userId": "07820383409841659888"
     },
     "user_tz": -480
    },
    "id": "L1mcL6KP67r_"
   },
   "outputs": [],
   "source": [
    "import pandas as pd\n",
    "import numpy as np\n",
    "import re\n",
    "from random import random\n",
    "import emoji\n",
    "from tqdm import notebook\n",
    "def tqdm(x, **kargs):\n",
    "    return notebook.tqdm(x, leave=False, **kargs)\n",
    "import matplotlib.pyplot as plt\n",
    "from collections import Counter, defaultdict\n",
    "from transformers import RobertaTokenizer, RobertaModel\n",
    "import json"
   ]
  },
  {
   "cell_type": "code",
   "execution_count": 4,
   "metadata": {
    "colab": {
     "base_uri": "https://localhost:8080/"
    },
    "executionInfo": {
     "elapsed": 18016,
     "status": "ok",
     "timestamp": 1622183774431,
     "user": {
      "displayName": "許桓瑜",
      "photoUrl": "",
      "userId": "07820383409841659888"
     },
     "user_tz": -480
    },
    "id": "zIa3g_X9Ch9k",
    "outputId": "ee67f3b4-45bd-4bed-d1d5-cd25ed0f88f9"
   },
   "outputs": [],
   "source": [
    "# from google.colab import drive\n",
    "# drive.mount('/content/drive')"
   ]
  },
  {
   "cell_type": "markdown",
   "metadata": {
    "id": "IGMl0gDY67sI"
   },
   "source": [
    "## Loading data"
   ]
  },
  {
   "cell_type": "code",
   "execution_count": 6,
   "metadata": {
    "colab": {
     "base_uri": "https://localhost:8080/"
    },
    "executionInfo": {
     "elapsed": 7956,
     "status": "ok",
     "timestamp": 1622183782382,
     "user": {
      "displayName": "許桓瑜",
      "photoUrl": "",
      "userId": "07820383409841659888"
     },
     "user_tz": -480
    },
    "id": "9wXRbsUoEDB4",
    "outputId": "4669d3cb-66b1-4b1b-d668-3690e20e0106"
   },
   "outputs": [
    {
     "name": "stdout",
     "output_type": "stream",
     "text": [
      "Number of text in training data: 168521\n",
      "Number of text in developing data: 40487\n",
      "Number of text in testing data: 88664\n"
     ]
    }
   ],
   "source": [
    "with open('evaluation/pubilc_data/train.json',encoding=\"utf-8\") as f:\n",
    "    train_data = json.load(f)\n",
    "with open('evaluation/pubilc_data/dev.json',encoding=\"utf-8\") as g:\n",
    "    dev_data = json.load(g)\n",
    "with open('evaluation/pubilc_data/eval.json',encoding=\"utf-8\") as h:\n",
    "    test_data = json.load(h)\n",
    "df_train = pd.DataFrame(train_data)\n",
    "df_dev = pd.DataFrame(dev_data)\n",
    "df_test = pd.DataFrame(test_data)\n",
    "\n",
    "print(\"Number of text in training data: {}\".format(df_train.shape[0]))\n",
    "# print(\"Number of text in categories: {}\".format(categories_type.shape[1]))\n",
    "print(\"Number of text in developing data: {}\".format(df_dev.shape[0]))\n",
    "print(\"Number of text in testing data: {}\".format(df_test.shape[0]))"
   ]
  },
  {
   "cell_type": "code",
   "execution_count": 7,
   "metadata": {
    "executionInfo": {
     "elapsed": 4,
     "status": "ok",
     "timestamp": 1622183791718,
     "user": {
      "displayName": "許桓瑜",
      "photoUrl": "",
      "userId": "07820383409841659888"
     },
     "user_tz": -480
    },
    "id": "zObgJC4F67sJ"
   },
   "outputs": [],
   "source": [
    "# df_train = pd.read_json('/content/drive/Shareddrives/NLP/source/train.json', lines=True)\n",
    "# # categories_type = pd.read_json('./source/categories.json', lines=True)\n",
    "# df_dev = pd.read_json('/content/drive/Shareddrives/NLP/source/dev.json', lines=True)\n",
    "# df_test = pd.read_json('/content/drive/Shareddrives/NLP/source/eval.json', lines=True)\n",
    "# print(\"Number of text in training data: {}\".format(df_train.shape[0]))\n",
    "# # print(\"Number of text in categories: {}\".format(categories_type.shape[1]))\n",
    "# print(\"Number of text in developing data: {}\".format(df_dev.shape[0]))\n",
    "# print(\"Number of text in testing data: {}\".format(df_test.shape[0]))"
   ]
  },
  {
   "cell_type": "code",
   "execution_count": 8,
   "metadata": {
    "colab": {
     "base_uri": "https://localhost:8080/",
     "height": 335,
     "referenced_widgets": [
      "55f523ebf71849d7bf0c5ec18f674cb7",
      "20ab3d465059436785e27f4f03296d5b",
      "7ea4cde15ffd42ebb7727c91608e5382",
      "41234bbe7cba4a7eabff290abe5273d8",
      "d26b841d21fc48c0a89a51545d00269b",
      "db907427c14e4df1a0df34b58914eee3",
      "a61ada87fccb4b2e9bf624215e681b4f",
      "a031a20914984c7b91461f3d95557c35",
      "4eccecdbd7a44fb796fe6992206cb510",
      "a06d0765ad8a478a9d3ff657ce830c5c",
      "c4b3e571e23f4c2faba24f4c70a37774",
      "61ecc62a8d9942a095886f5ca7b704d2",
      "0c02ff2b9dec4c02b506c290f168c032",
      "5233fb2004ff4247a9ae1819af4a3b8b",
      "549704acb33548639851404d41d73c58",
      "5c19e775516d4f36a765edc48d93debf",
      "dfff683b1cb0481995b26c1e165bcab5",
      "1c5ab046501a43309fa9545c30b08bb8",
      "f317e4c674bc4c029f989d4eb1ed1889",
      "a473b90e3cf84b6eb82698aafd98dbb5",
      "ebeb0ddb43aa4c04b5966638ee655ba4",
      "5b5d2ce06f834bfd93ce71c326d2c79b",
      "a8518d501ea14eca89211403a819d101",
      "b5f6e18dd1bf4c68aa14a9945b1be06c",
      "cc4d8b0593ef4b14affb7ad847f59f56",
      "5db09b56f05548a4ad94c4872cbcbab0",
      "578d1380703b474ea04af75ad9ed4890",
      "371f38bb750b497589a44a04444528aa",
      "04462e14abc844a3891c44daa33f82be",
      "ad413f94c09447ed9ce7f0cad8796bb9",
      "c4a7062833bf4b70b0d7a33cd0769099",
      "03cd0371856741c0989ab6ebebb326ed",
      "95ef0f4adb7949689bdf53b1cec37dd8",
      "ec0e7f3a589443d89f041ac9f1aee965",
      "db44b43d25ea41f4b5267c1f90e605cf",
      "2dc7203f9eab47f9a697da8fcd6b7411",
      "e1e2229453fb4b4eb76a81274c30f50c",
      "148c44d13395459bb2739805e380b9f7",
      "e109042d61a94cb78158b536bc753e3f",
      "6b47ea819f9b4526b078ea7c943fe736"
     ]
    },
    "executionInfo": {
     "elapsed": 16037,
     "status": "ok",
     "timestamp": 1622183813263,
     "user": {
      "displayName": "許桓瑜",
      "photoUrl": "",
      "userId": "07820383409841659888"
     },
     "user_tz": -480
    },
    "id": "gAg9g4At67sK",
    "outputId": "a7ef52d2-885a-4c3c-94e6-ac435e7b74a0"
   },
   "outputs": [
    {
     "name": "stderr",
     "output_type": "stream",
     "text": [
      "Some weights of the model checkpoint at roberta-base were not used when initializing RobertaModel: ['lm_head.dense.weight', 'lm_head.dense.bias', 'lm_head.decoder.weight', 'lm_head.layer_norm.weight', 'lm_head.layer_norm.bias', 'lm_head.bias']\n",
      "- This IS expected if you are initializing RobertaModel from the checkpoint of a model trained on another task or with another architecture (e.g. initializing a BertForSequenceClassification model from a BertForPreTraining model).\n",
      "- This IS NOT expected if you are initializing RobertaModel from the checkpoint of a model that you expect to be exactly identical (initializing a BertForSequenceClassification model from a BertForSequenceClassification model).\n"
     ]
    }
   ],
   "source": [
    "tokenizer = RobertaTokenizer.from_pretrained(\"roberta-base\")\n",
    "model = RobertaModel.from_pretrained(\"roberta-base\")"
   ]
  },
  {
   "cell_type": "code",
   "execution_count": 9,
   "metadata": {
    "colab": {
     "base_uri": "https://localhost:8080/"
    },
    "executionInfo": {
     "elapsed": 661,
     "status": "ok",
     "timestamp": 1622183818118,
     "user": {
      "displayName": "許桓瑜",
      "photoUrl": "",
      "userId": "07820383409841659888"
     },
     "user_tz": -480
    },
    "id": "l757jTQZ67sL",
    "outputId": "81e326b5-eed6-4c26-fe18-508a35ae6b96"
   },
   "outputs": [
    {
     "name": "stderr",
     "output_type": "stream",
     "text": [
      "Vocabulary path (NLP/roberta_vocab/) should be a directory\n"
     ]
    }
   ],
   "source": [
    "# Output tokenizer vocab\n",
    "#./roberta_vocab/ -> /content/drive/Shareddrives/NLP/roberta_vocab/\n",
    "\n",
    "tokenizer.save_vocabulary('NLP/roberta_vocab/')"
   ]
  },
  {
   "cell_type": "code",
   "execution_count": 10,
   "metadata": {
    "executionInfo": {
     "elapsed": 254,
     "status": "ok",
     "timestamp": 1622183826060,
     "user": {
      "displayName": "許桓瑜",
      "photoUrl": "",
      "userId": "07820383409841659888"
     },
     "user_tz": -480
    },
    "id": "pIsflado67sM",
    "scrolled": true
   },
   "outputs": [],
   "source": [
    "roberta_vocab = pd.read_json('roberta_vocab/vocab.json', typ='series')"
   ]
  },
  {
   "cell_type": "code",
   "execution_count": 11,
   "metadata": {
    "colab": {
     "base_uri": "https://localhost:8080/"
    },
    "executionInfo": {
     "elapsed": 286,
     "status": "ok",
     "timestamp": 1622183828920,
     "user": {
      "displayName": "許桓瑜",
      "photoUrl": "",
      "userId": "07820383409841659888"
     },
     "user_tz": -480
    },
    "id": "T1T63O9K67sN",
    "outputId": "74b9c9d0-acc3-489a-a528-59744c49a0ac",
    "scrolled": true
   },
   "outputs": [
    {
     "data": {
      "text/plain": [
       "['<s>',\n",
       " '<pad>',\n",
       " '</s>',\n",
       " '<unk>',\n",
       " '.',\n",
       " 'Ġthe',\n",
       " ',',\n",
       " 'Ġto',\n",
       " 'Ġand',\n",
       " 'Ġof',\n",
       " 'Ġa',\n",
       " 'Ġin',\n",
       " '-',\n",
       " 'Ġfor',\n",
       " 'Ġthat',\n",
       " 'Ġon',\n",
       " 'Ġis',\n",
       " 'âĢ',\n",
       " \"'s\",\n",
       " 'Ġwith',\n",
       " 'ĠThe',\n",
       " 'Ġwas',\n",
       " 'Ġ\"',\n",
       " 'Ġat',\n",
       " 'Ġit',\n",
       " 'Ġas',\n",
       " 'Ġsaid',\n",
       " 'Ļ',\n",
       " 'Ġbe',\n",
       " 's',\n",
       " 'Ġby',\n",
       " 'Ġfrom',\n",
       " 'Ġare',\n",
       " 'Ġhave',\n",
       " 'Ġhas',\n",
       " ':',\n",
       " 'Ġ(',\n",
       " 'Ġhe',\n",
       " 'ĠI',\n",
       " 'Ġhis',\n",
       " 'Ġwill',\n",
       " 'Ġan',\n",
       " 'Ġthis',\n",
       " ')',\n",
       " 'ĠâĢ',\n",
       " 'Ġnot',\n",
       " 'Ŀ',\n",
       " 'Ġyou',\n",
       " 'ľ',\n",
       " 'Ġtheir',\n",
       " 'Ġor',\n",
       " 'Ġthey',\n",
       " 'Ġwe',\n",
       " 'Ġbut',\n",
       " 'Ġwho',\n",
       " 'Ġmore',\n",
       " 'Ġhad',\n",
       " 'Ġbeen',\n",
       " 'Ġwere',\n",
       " 'Ġabout',\n",
       " ',\"',\n",
       " 'Ġwhich',\n",
       " 'Ġup',\n",
       " 'Ġits',\n",
       " 'Ġcan',\n",
       " 'Ġone',\n",
       " 'Ġout',\n",
       " 'Ġalso',\n",
       " 'Ġ$',\n",
       " 'Ġher',\n",
       " 'Ġall',\n",
       " 'Ġafter',\n",
       " '.\"',\n",
       " '/',\n",
       " 'Ġwould',\n",
       " \"'t\",\n",
       " 'Ġyear',\n",
       " 'Ġwhen',\n",
       " 'Ġfirst',\n",
       " 'Ġshe',\n",
       " 'Ġtwo',\n",
       " 'Ġover',\n",
       " 'Ġpeople',\n",
       " 'ĠA',\n",
       " 'Ġour',\n",
       " 'ĠIt',\n",
       " 'Ġtime',\n",
       " 'Ġthan',\n",
       " 'Ġinto',\n",
       " 'Ġthere',\n",
       " 't',\n",
       " 'ĠHe',\n",
       " 'Ġnew',\n",
       " 'ĠâĢĶ',\n",
       " 'Ġlast',\n",
       " 'Ġjust',\n",
       " 'ĠIn',\n",
       " 'Ġother',\n",
       " 'Ġso',\n",
       " 'Ġwhat',\n",
       " 'I',\n",
       " 'Ġlike',\n",
       " 'a',\n",
       " 'Ġsome',\n",
       " 'S',\n",
       " 'Ã«',\n",
       " 'Ġthem',\n",
       " 'Ġyears',\n",
       " \"'\",\n",
       " 'Ġdo',\n",
       " 'Ġyour',\n",
       " 'Ġ-',\n",
       " 'Ġ1',\n",
       " '\"',\n",
       " 'Ġif',\n",
       " 'Ġcould',\n",
       " '?',\n",
       " 'Ġno',\n",
       " 'i',\n",
       " 'm',\n",
       " 'Ġget',\n",
       " 'ĠU',\n",
       " 'Ġnow',\n",
       " 'Ġhim',\n",
       " 'Ġback',\n",
       " 'ĠBut',\n",
       " 'ĠâĢĵ',\n",
       " 'Ġmy',\n",
       " \"Ġ'\",\n",
       " 'Ġonly',\n",
       " 'Ġthree',\n",
       " ';',\n",
       " 'Ġ2',\n",
       " 'The',\n",
       " '1',\n",
       " 'Ġpercent',\n",
       " 'Ġagainst',\n",
       " 'Ġbefore',\n",
       " 'Ġcompany',\n",
       " 'o',\n",
       " 'ĠTrump',\n",
       " 'Ġhow',\n",
       " 'Ġbecause',\n",
       " 'Ġany',\n",
       " 'Ġmost',\n",
       " 'Ġbeing',\n",
       " 'Ġmake',\n",
       " 'Ġwhere',\n",
       " 'Ġduring',\n",
       " 'Ġthrough',\n",
       " 'Ġwhile',\n",
       " '000',\n",
       " 'ĠThis',\n",
       " 'Ġmillion',\n",
       " 'ing',\n",
       " 'Ġ3',\n",
       " 'Ġmade',\n",
       " 'Ġwell',\n",
       " 'Ġ10',\n",
       " 'Ġdown',\n",
       " 'Ġoff',\n",
       " 'Ġsays',\n",
       " 'Ġme',\n",
       " 'ĠB',\n",
       " 'Ġgoing',\n",
       " 'Ġteam',\n",
       " 'ĠWe',\n",
       " 'Ġthose',\n",
       " 'Ġgovernment',\n",
       " 'Ġway',\n",
       " 'We',\n",
       " 'Ġmany',\n",
       " 'Ġthen',\n",
       " 'Ġwork',\n",
       " 'Ġtold',\n",
       " 'com',\n",
       " '2',\n",
       " 'Ġgame',\n",
       " 'ĠAnd',\n",
       " 'in',\n",
       " 'year',\n",
       " 'Ġp',\n",
       " 'Ġvery',\n",
       " 'Ġday',\n",
       " 'Ġhome',\n",
       " 'Ġtake',\n",
       " 'Ġweek',\n",
       " 'Ġsince',\n",
       " 'ĠNew',\n",
       " 'Ġmay',\n",
       " 'Ġeven',\n",
       " 'Ġseason',\n",
       " 'Ġsee',\n",
       " 'Ġ2017',\n",
       " 'Ġstate',\n",
       " 'Ġ5',\n",
       " 'ed',\n",
       " 'Ġshould',\n",
       " 'Ġaround',\n",
       " 'Ġ2018',\n",
       " 'Ġsecond',\n",
       " 'Ġus',\n",
       " 'Ġstill',\n",
       " 'Ġmuch',\n",
       " 'Ġ4',\n",
       " 'Ġgood',\n",
       " 'Ġthink',\n",
       " '%',\n",
       " 'ĠS',\n",
       " 'Ġthese',\n",
       " 'Ġmarket',\n",
       " 'ĠD',\n",
       " 'th',\n",
       " 'Ġgo',\n",
       " \"'re\",\n",
       " 'Ġsuch',\n",
       " 'Ġknow',\n",
       " 'Ġincluding',\n",
       " 'Ġdon',\n",
       " 'y',\n",
       " 'Ġnext',\n",
       " 'ĠP',\n",
       " 'Ġdid',\n",
       " 'Ġunder',\n",
       " 'Ġsay',\n",
       " 'en',\n",
       " 'ĠL',\n",
       " 'Ġbetween',\n",
       " 'Ġper',\n",
       " 'ĠK',\n",
       " 'ĠC',\n",
       " 'Ġ6',\n",
       " 'Ġworld',\n",
       " 'Ġpart',\n",
       " 'ĠN',\n",
       " 'Ġright',\n",
       " 'Ġwant',\n",
       " 'Ġfour',\n",
       " '),',\n",
       " 'Ġhigh',\n",
       " 'Ġneed',\n",
       " 're',\n",
       " 'e',\n",
       " 'It',\n",
       " 'Ġhelp',\n",
       " '5',\n",
       " '3',\n",
       " 'Ġcountry',\n",
       " 'ĠR',\n",
       " 'Ġpolice',\n",
       " 'A',\n",
       " 'Ġlong',\n",
       " 'ĠThey',\n",
       " 'Ġend',\n",
       " 'er',\n",
       " 'ĠT',\n",
       " 'ĠM',\n",
       " 'u',\n",
       " 'Ġboth',\n",
       " 'Ġhere',\n",
       " 'an',\n",
       " 'on',\n",
       " 'Ġ7',\n",
       " 'Ġde',\n",
       " 'ĠShe',\n",
       " 'Ġbusiness',\n",
       " 'Ġreport',\n",
       " 'j',\n",
       " 'ers',\n",
       " 'Ġreally',\n",
       " 'ĠPresident',\n",
       " 'ar',\n",
       " 'ĠG',\n",
       " 'ĠFriday',\n",
       " 'ĠF',\n",
       " 'Ġbest',\n",
       " 'Ġsame',\n",
       " 'Ġanother',\n",
       " 'Ġset',\n",
       " 'old',\n",
       " 'ĠThat',\n",
       " 'as',\n",
       " 'n',\n",
       " 'Ġcome',\n",
       " 'Ġfamily',\n",
       " 'Ġpublic',\n",
       " 'ĠFor',\n",
       " 'ĠAs',\n",
       " '0',\n",
       " 'ĠH',\n",
       " 'Ġ8',\n",
       " 'Ġ20',\n",
       " 'Ġfive',\n",
       " 'es',\n",
       " 'ĠTuesday',\n",
       " 'Ġn',\n",
       " 'ĠThursday',\n",
       " 'Ġquarter',\n",
       " 'h',\n",
       " 'Ġtop',\n",
       " 'Ġgot',\n",
       " 'Ġlife',\n",
       " 'ĠMonday',\n",
       " 'Ġfound',\n",
       " 'Ġuse',\n",
       " 'ĠW',\n",
       " '4',\n",
       " 'ĠWednesday',\n",
       " 'Ġown',\n",
       " 'Ġaccording',\n",
       " 'Ġplay',\n",
       " 'Ġshow',\n",
       " 'ĠSt',\n",
       " 'Ġman',\n",
       " 'Ġleft',\n",
       " 'ĠUnited',\n",
       " 'Ġ12',\n",
       " 'Ġplace',\n",
       " 'ĠIf',\n",
       " 'Ġlot',\n",
       " 'Ġformer',\n",
       " 'Ġ0',\n",
       " ').',\n",
       " 'Ġsupport',\n",
       " 'ie',\n",
       " 'Ġbillion',\n",
       " 'Ġt',\n",
       " 'Ġshares',\n",
       " '!',\n",
       " 'z',\n",
       " 'k',\n",
       " 'ĠState',\n",
       " 'Ġpoints',\n",
       " 'Ġgroup',\n",
       " 'Ġschool',\n",
       " 'Ġinformation',\n",
       " 'Ġ2016',\n",
       " 'al',\n",
       " 'r',\n",
       " 'Ġwin',\n",
       " 'Ġnews',\n",
       " 'Ġused',\n",
       " 'Ġput',\n",
       " 'Ġcity',\n",
       " 'ĠJ',\n",
       " 'ĠThere',\n",
       " 'Ġnumber',\n",
       " 'C',\n",
       " \"'ve\",\n",
       " 'Ġeach',\n",
       " 'Ġtoo',\n",
       " 'Ġwon',\n",
       " 'ly',\n",
       " 'Ġmonth',\n",
       " 'is',\n",
       " 'Ġadded',\n",
       " 'Ġlook',\n",
       " 'Ġbetter',\n",
       " 'Ġevery',\n",
       " 'Ġ&',\n",
       " 'Ġdays',\n",
       " 'Ġ9',\n",
       " 'Ġtook',\n",
       " 'Ġnight',\n",
       " 'Ġe',\n",
       " 'Ġ11',\n",
       " 'os',\n",
       " 'Ġfew',\n",
       " 'or',\n",
       " 'ĠNorth',\n",
       " 'ĠYou',\n",
       " 'Ġthird',\n",
       " 'Ġgreat',\n",
       " 'Ġcalled',\n",
       " 'ĠOn',\n",
       " 'Ġpast',\n",
       " 'Ġcame',\n",
       " 'Ġmonths',\n",
       " 'ĠSaturday',\n",
       " 'Ġ15',\n",
       " 'Ġbig',\n",
       " 'ĠE',\n",
       " 'ĠUS',\n",
       " 'Ġthings',\n",
       " 'ĠO',\n",
       " 'Ġd',\n",
       " 'Ġstart',\n",
       " 'B',\n",
       " 'Ġstock',\n",
       " 'Ġ30',\n",
       " 'Ġwomen',\n",
       " 'ĠSouth',\n",
       " 'ĠMay',\n",
       " 'Ġnever',\n",
       " 'Ġpresident',\n",
       " 'ĠSunday',\n",
       " 'Ġwithout',\n",
       " 'man',\n",
       " '8',\n",
       " 'Ġdidn',\n",
       " 'Ġlocal',\n",
       " '6',\n",
       " 'Ġsomething',\n",
       " 'Ġcase',\n",
       " 'ĠAll',\n",
       " 'it',\n",
       " '7',\n",
       " 'ĠSo',\n",
       " 'Ġchildren',\n",
       " 'Ġaway',\n",
       " 'Ġlittle',\n",
       " 'Ġsix',\n",
       " 'ĠCity',\n",
       " 'ĠCounty',\n",
       " 'Ġdata',\n",
       " 'at',\n",
       " 'Ġalready',\n",
       " 'd',\n",
       " 'Ġmoney',\n",
       " 'Ġearly',\n",
       " 'Ġacross',\n",
       " 'Ġexpected',\n",
       " 'Ġrun',\n",
       " 'Ġlater',\n",
       " 'am',\n",
       " 'Ġprice',\n",
       " 'Ġgames',\n",
       " 'ĠMr',\n",
       " 'b',\n",
       " 'Ġmight',\n",
       " 'Ġdifferent',\n",
       " 'Ġreported',\n",
       " 'Ġdeal',\n",
       " 'Ġmedia',\n",
       " 'Ġgrowth',\n",
       " 'Ġcommunity',\n",
       " 'ĠChina',\n",
       " \"'m\",\n",
       " 'c',\n",
       " 'Ġwent',\n",
       " 'ĠNo',\n",
       " 'Ġable',\n",
       " 'Ġmaking',\n",
       " 'Ġarea',\n",
       " 'Ġfar',\n",
       " 'Ġstatement',\n",
       " 'ĠHouse',\n",
       " 'Ġworking',\n",
       " 'M',\n",
       " 'Ġk',\n",
       " 'Ġseen',\n",
       " 'Ġcompanies',\n",
       " 'Ġtoday',\n",
       " 'Ġmembers',\n",
       " 'Ġuntil',\n",
       " 'Ġfull',\n",
       " 'Ġagain',\n",
       " 'Ġhalf',\n",
       " 'Ġshare',\n",
       " 'le',\n",
       " 'Ġalways',\n",
       " 'Ġcourt',\n",
       " 'l',\n",
       " 'and',\n",
       " 'Ġchange',\n",
       " 'Ġfind',\n",
       " '9',\n",
       " 'Ġsystem',\n",
       " 'ĠV',\n",
       " 'ĠYork',\n",
       " 'ĠAmerican',\n",
       " 'Ġhead',\n",
       " 'Ġplayers',\n",
       " 'Ġdoes',\n",
       " 'Ġhealth',\n",
       " 'Ġm',\n",
       " 'Ġpower',\n",
       " 'Ġpoint',\n",
       " 'Ġhit',\n",
       " 'Ġ.',\n",
       " 'Ġ--',\n",
       " 'Ġfree',\n",
       " '.,',\n",
       " 'Ġlead',\n",
       " 'Ġseveral',\n",
       " 'Ġrecent',\n",
       " 'Ġcall',\n",
       " 'N',\n",
       " 'Ġlaw',\n",
       " 'Ġkeep',\n",
       " 'Ġopen',\n",
       " 'ĠNews',\n",
       " 'Ġgive',\n",
       " 'ia',\n",
       " 'ĠMarch',\n",
       " 'D',\n",
       " 'ĠNational',\n",
       " 'ĠAt',\n",
       " 'Ġtimes',\n",
       " 'Ġfuture',\n",
       " 'R',\n",
       " 'Ġ14',\n",
       " 'ĠJune',\n",
       " 'Ġofficials',\n",
       " 'Ġ18',\n",
       " 'Ġimportant',\n",
       " 'f',\n",
       " 'Ġfinal',\n",
       " 'Ġ13',\n",
       " 'ĠOne',\n",
       " 'P',\n",
       " 'Ġfollowing',\n",
       " 'Ġcar',\n",
       " 'Ġleast',\n",
       " 'Ġwater',\n",
       " 'Ġevent',\n",
       " 'Ġline',\n",
       " 'Ġmove',\n",
       " 'Ġservices',\n",
       " 'Ġhaving',\n",
       " 'ĠWhen',\n",
       " 'Ġstudents',\n",
       " 'ĠPolice',\n",
       " 'el',\n",
       " 'Ġam',\n",
       " 'ĠZ',\n",
       " 'Ġside',\n",
       " 'Ġstory',\n",
       " 'Ġdue',\n",
       " 'Ġmeeting',\n",
       " 'K',\n",
       " 'Ġmust',\n",
       " 'ĠStates',\n",
       " 'Ġlikely',\n",
       " 'G',\n",
       " 'Ġcontinue',\n",
       " 'Ġago',\n",
       " 'Ġparty',\n",
       " 'Ġmajor',\n",
       " 'Ġindustry',\n",
       " 'Ġless',\n",
       " '30',\n",
       " 'Ġun',\n",
       " 'Ġhard',\n",
       " 'Ġservice',\n",
       " 'Ġ16',\n",
       " 'Ġlooking',\n",
       " 'Ġheld',\n",
       " 've',\n",
       " 'Ġwhether',\n",
       " 'ĠJuly',\n",
       " 'Ġtaken',\n",
       " 'Ġalong',\n",
       " 'Ġasked',\n",
       " 'Ġstarted',\n",
       " 'Ġbecome',\n",
       " 'Ġforward',\n",
       " 'Ġresearch',\n",
       " 'Ġoffice',\n",
       " 'Ġpolitical',\n",
       " 'to',\n",
       " 'Ġtogether',\n",
       " 'Ġgetting',\n",
       " 'Ġplan',\n",
       " 'Ġ25',\n",
       " 'T',\n",
       " 'Ġamong',\n",
       " 'Ġcoming',\n",
       " 'Ġdecision',\n",
       " 'Ġvideo',\n",
       " 'Ġ2015',\n",
       " 'g',\n",
       " 'ĠAfter',\n",
       " 'Ġsecurity',\n",
       " 'L',\n",
       " 'Ġcare',\n",
       " 'Ġgiven',\n",
       " 'Ġavailable',\n",
       " 'âĢĶ',\n",
       " 'Ġs',\n",
       " 'ĠWest',\n",
       " \"'ll\",\n",
       " 'Ġpay',\n",
       " 'Ġnear',\n",
       " 'Ġsaying',\n",
       " 'Ġannounced',\n",
       " 'Ġprogram',\n",
       " 'ĠApril',\n",
       " 'Ġreal',\n",
       " 'ĠUniversity',\n",
       " 'ĠWith',\n",
       " 'AP',\n",
       " 'Ġsocial',\n",
       " 'Ġclose',\n",
       " 'et',\n",
       " 'Ġcurrent',\n",
       " 'Ġwhy',\n",
       " 'F',\n",
       " 'ĠTo',\n",
       " 'ĠTwitter',\n",
       " 'Ġthough',\n",
       " 'Ġ17',\n",
       " 'Ġtaking',\n",
       " 'ĠInc',\n",
       " 'Ġmen',\n",
       " 'w',\n",
       " 'Ġcomes',\n",
       " 'ley',\n",
       " 'Ġdoing',\n",
       " 'Ġprocess',\n",
       " 'ĠJohn',\n",
       " 'ch',\n",
       " '00',\n",
       " 'Ġfinancial',\n",
       " 'Ġlow',\n",
       " 'Ġenough',\n",
       " 'ĠWhile',\n",
       " 'Ġfurther',\n",
       " 'Ġpost',\n",
       " 'Ġfeel',\n",
       " 'st',\n",
       " 'Ġperson',\n",
       " 'ĠFacebook',\n",
       " 'ĠWorld',\n",
       " 'Ġwithin',\n",
       " 'ad',\n",
       " 'Ġdone',\n",
       " 'the',\n",
       " 'Ġlate',\n",
       " 'Ġtax',\n",
       " 'Ġdoesn',\n",
       " 'Ġthing',\n",
       " 'Ġnational',\n",
       " 'Ġjob',\n",
       " 'Ġusing',\n",
       " 'ĠHowever',\n",
       " 'ic',\n",
       " 'Ġcampaign',\n",
       " 'Ġrecord',\n",
       " 'Ġbehind',\n",
       " '://',\n",
       " 'ĠDepartment',\n",
       " 'p',\n",
       " 'Ġothers',\n",
       " 'ĠJanuary',\n",
       " 'Ġorder',\n",
       " 'Ġ[',\n",
       " 'Ġsales',\n",
       " 'Ġyet',\n",
       " 'Ä',\n",
       " 'Ġsmall',\n",
       " 'Ġseries',\n",
       " 'Ġface',\n",
       " 'ĠWhat',\n",
       " 'Ġ50',\n",
       " 'Ġever',\n",
       " 'Ġearlier',\n",
       " 'Ġlove',\n",
       " 'up',\n",
       " 'Ġrights',\n",
       " 'ĠAn',\n",
       " 'ist',\n",
       " 'Ġmorning',\n",
       " 'ĠWashington',\n",
       " 'Ġyoung',\n",
       " 'Ġlatest',\n",
       " 'ĠIndia',\n",
       " 'Ġtrying',\n",
       " 'Ġfire',\n",
       " 'Ġled',\n",
       " 'Ġstrong',\n",
       " 'Ġreturn',\n",
       " 'Ġlevel',\n",
       " 'O',\n",
       " 'Ġaverage',\n",
       " 'Ġperiod',\n",
       " 'Ġexperience',\n",
       " 'ak',\n",
       " 'Ġpossible',\n",
       " 'Ġbelieve',\n",
       " 'Ġinclude',\n",
       " 'Ġoil',\n",
       " 'Ġrecently',\n",
       " 'Ġonce',\n",
       " 'Ġknown',\n",
       " 'Ġlost',\n",
       " 'Ġsure',\n",
       " 'us',\n",
       " 'Ġweeks',\n",
       " 'Ġfood',\n",
       " 'Ġreports',\n",
       " 'Ġrating',\n",
       " 'ĠMinister',\n",
       " 'Ġwoman',\n",
       " 'Ġprovide',\n",
       " 'Ġproject',\n",
       " 'Ġissue',\n",
       " 'Ġlive',\n",
       " '10',\n",
       " 'Ġclear',\n",
       " 'he',\n",
       " 'Ġcost',\n",
       " 'Ġplayed',\n",
       " 'Ġreleased',\n",
       " 'Ġcoach',\n",
       " 'v',\n",
       " 'Ġ24',\n",
       " 'Ġseven',\n",
       " 'Ġplans',\n",
       " 'Ġdevelopment',\n",
       " 'ur',\n",
       " 'ĺ',\n",
       " 'Ġincrease',\n",
       " 'This',\n",
       " 'Ġpolicy',\n",
       " 'Ġcent',\n",
       " 'Ġbased',\n",
       " 'E',\n",
       " 'il',\n",
       " 'ĠDecember',\n",
       " 'Ġglobal',\n",
       " 'Ġtrade',\n",
       " 'Ġhours',\n",
       " 'Ġhigher',\n",
       " 'Ġgoal',\n",
       " 'H',\n",
       " 'ĠAl',\n",
       " 'Ġ100',\n",
       " 'Ġminutes',\n",
       " 'Ġelection',\n",
       " 'ĠAmerica',\n",
       " 'Ġrate',\n",
       " 'ĠCh',\n",
       " 'Ġ21',\n",
       " '...',\n",
       " 'ĠWhite',\n",
       " 'Ġdirector',\n",
       " 'Ġposition',\n",
       " 'Ġshot',\n",
       " 'Ġlarge',\n",
       " 'Ġc',\n",
       " 'Ġb',\n",
       " ']',\n",
       " 'Ġissues',\n",
       " 'Ġdeath',\n",
       " 'Ġbuilding',\n",
       " 'Ġtotal',\n",
       " 'Ġoften',\n",
       " 'Ġv',\n",
       " 'Ġcountries',\n",
       " 'Ġhistory',\n",
       " 'Ġoutside',\n",
       " 'Ġfederal',\n",
       " 'Ġ19',\n",
       " 'Ġfact',\n",
       " 'ĠHigh',\n",
       " 'Ġcareer',\n",
       " 'im',\n",
       " 'Ġinternational',\n",
       " 'ĠNovember',\n",
       " 'Ġfront',\n",
       " 'Ġkind',\n",
       " 'Ġkey',\n",
       " 'ra',\n",
       " 'ĠSan',\n",
       " 'Ġshort',\n",
       " 'Ġname',\n",
       " 'ĠAccording',\n",
       " 'Ġcourse',\n",
       " 'Ġre',\n",
       " 'Ġwanted',\n",
       " 'W',\n",
       " 'ĠSeptember',\n",
       " 'Ġinterest',\n",
       " 'Ġrole',\n",
       " 'Ġresults',\n",
       " 'Ġeconomic',\n",
       " 'Ġ2014',\n",
       " 'Ġchance',\n",
       " 'ĠOctober',\n",
       " 'Ġspecial',\n",
       " 'Ġofficial',\n",
       " 'Ġneeds',\n",
       " 'um',\n",
       " 'Ġl',\n",
       " 'Ġproducts',\n",
       " 'Ġnon',\n",
       " 'Ġ@',\n",
       " 'ĠBank',\n",
       " 'Ġahead',\n",
       " 'Ġhouse',\n",
       " 'U',\n",
       " 'Ġboard',\n",
       " 'Ġold',\n",
       " 'Ġsaw',\n",
       " 'Ġlower',\n",
       " 'ĠEuropean',\n",
       " 'Ġcontrol',\n",
       " 'ĠRussia',\n",
       " 'Ġeight',\n",
       " 'Ġrelease',\n",
       " 'Ġpotential',\n",
       " 'Ġthought',\n",
       " 'Ġinvestigation',\n",
       " 'Ġonline',\n",
       " 'based',\n",
       " 'Ġtechnology',\n",
       " 'ĠDonald',\n",
       " 'id',\n",
       " 'Ġbody',\n",
       " 'Ġrisk',\n",
       " 'ian',\n",
       " 'Ġcapital',\n",
       " 'Ġstaff',\n",
       " 'Ġaction',\n",
       " 'ĠLeague',\n",
       " 'Ġplaying',\n",
       " 'Ġmakes',\n",
       " 'Ġalmost',\n",
       " 'Ġperformance',\n",
       " 'Ġ22',\n",
       " 'Ġg',\n",
       " 'Ġfilm',\n",
       " 'Ġnearly',\n",
       " 'ĠCenter',\n",
       " 'Ġvisit',\n",
       " 'ĠGroup',\n",
       " 'Ġbank',\n",
       " 'Ġbit',\n",
       " 'Ġreceived',\n",
       " 'ĠAugust',\n",
       " 'Ġmilitary',\n",
       " 'ĠHis',\n",
       " 'ine',\n",
       " 'Ġchief',\n",
       " 'ĠSchool',\n",
       " 'Ġbring',\n",
       " 'ĠCourt',\n",
       " 'Ġ(@',\n",
       " 'Ġmeans',\n",
       " 'ĠSh',\n",
       " 'Ġfans',\n",
       " 'Ġse',\n",
       " 'Ġ40',\n",
       " '20',\n",
       " '\".',\n",
       " 'V',\n",
       " 'Ġcut',\n",
       " 'Ġkilled',\n",
       " 'Ġ#',\n",
       " 'Ġprices',\n",
       " 'Ġgave',\n",
       " 'ĠStreet',\n",
       " 'ir',\n",
       " 'ĠY',\n",
       " 'Ġcurrently',\n",
       " 'Ġf',\n",
       " 'ay',\n",
       " 'ne',\n",
       " 'te',\n",
       " 'Ġtry',\n",
       " 'ĠPark',\n",
       " 'ĥ',\n",
       " 'J',\n",
       " 'Ġquestion',\n",
       " 'Ġhand',\n",
       " 'Ġeconomy',\n",
       " 'Ġinvestors',\n",
       " 'able',\n",
       " 'Ġplayer',\n",
       " 'ĠBy',\n",
       " 'ĠDavid',\n",
       " 'Ġloss',\n",
       " 'ab',\n",
       " 'Ġbelow',\n",
       " 'Ġwrote',\n",
       " 'co',\n",
       " 'ate',\n",
       " 'Ġrunning',\n",
       " 'un',\n",
       " 'Ġbegan',\n",
       " 'Ġsingle',\n",
       " 'Ġfield',\n",
       " 'Ġ23',\n",
       " 'Ġleader',\n",
       " 'Ġw',\n",
       " 'ĠCalifornia',\n",
       " 'Ġfourth',\n",
       " 'Ġactually',\n",
       " 'Ġlist',\n",
       " 'll',\n",
       " 'Ġcouple',\n",
       " 'Ġstudy',\n",
       " 'Ġteams',\n",
       " 'He',\n",
       " 'ah',\n",
       " 'ĠCanada',\n",
       " 'Ġla',\n",
       " 'Ġresult',\n",
       " 'Ġaccess',\n",
       " 'Ġvote',\n",
       " 'ĠMore',\n",
       " 'ĠFebruary',\n",
       " 'Ġrevenue',\n",
       " 'Ġoffer',\n",
       " 'Ġlet',\n",
       " 'ier',\n",
       " 'Ġbuy',\n",
       " 'Ġattack',\n",
       " 'Ġblack',\n",
       " 'Ġr',\n",
       " 'Ġareas',\n",
       " 'Ġstop',\n",
       " 'Ġimpact',\n",
       " 'Ġmatch',\n",
       " 'Ġinvestment',\n",
       " 'Ġcustomers',\n",
       " 'Ġleaders',\n",
       " 'ies',\n",
       " 'Ġmember',\n",
       " 'Ġchild',\n",
       " 'Ġroad',\n",
       " 'ul',\n",
       " 'Ġvalue',\n",
       " 'Ġshows',\n",
       " 'ĠDr',\n",
       " 'ĠDe',\n",
       " 'ant',\n",
       " 'ĠLondon',\n",
       " 'Ġroom',\n",
       " 'Ġmusic',\n",
       " 'Ġproduction',\n",
       " 'Ġanything',\n",
       " 'Ġfirm',\n",
       " 'Ġbiggest',\n",
       " 'Ġair',\n",
       " 'Ġproblem',\n",
       " 'Ġgeneral',\n",
       " 'Ġwasn',\n",
       " 'Ġi',\n",
       " 'Ġprivate',\n",
       " 'Ġespecially',\n",
       " 'Ġadministration',\n",
       " 'Ġadditional',\n",
       " 'ĠCo',\n",
       " 'Ġopportunity',\n",
       " 'Ġhold',\n",
       " '&',\n",
       " 'Ġmatter',\n",
       " 'Ġsenior',\n",
       " 'Ġclub',\n",
       " 'Ġsomeone',\n",
       " 'ĠÃ',\n",
       " 'ĠEast',\n",
       " 'Ġ2019',\n",
       " \".'\",\n",
       " 'Ġneeded',\n",
       " 'ĠJames',\n",
       " 'time',\n",
       " 'Ġhowever',\n",
       " 'Ġeverything',\n",
       " 'Ġeveryone',\n",
       " 'Ġdied',\n",
       " 'Ġinvolved',\n",
       " 'Ġfriends',\n",
       " 'Ġisn',\n",
       " 'Ġworth',\n",
       " 'ik',\n",
       " 'ĠCup',\n",
       " 'Ġshowed',\n",
       " 'There',\n",
       " 'Ġ28',\n",
       " 'Ġmeet',\n",
       " 'Ġ26',\n",
       " 'Ġ27',\n",
       " 'Y',\n",
       " 'Ġregion',\n",
       " 'ĠPress',\n",
       " 'ĠNow',\n",
       " 'Ġson',\n",
       " 'Ġspace',\n",
       " 'Ġleading',\n",
       " 'Ġstates',\n",
       " 'Ġweekend',\n",
       " 'ĠÂ£',\n",
       " 'Ġmother',\n",
       " 'Ġprevious',\n",
       " 'ĠUK',\n",
       " 'ĠMichael',\n",
       " 'Ġleave',\n",
       " 'est',\n",
       " 'em',\n",
       " 'Ġz',\n",
       " 'ĠSome',\n",
       " 'ors',\n",
       " 'out',\n",
       " '15',\n",
       " 'Ġwar',\n",
       " 'Ġwebsite',\n",
       " 'Ġstar',\n",
       " ...]"
      ]
     },
     "execution_count": 11,
     "metadata": {},
     "output_type": "execute_result"
    }
   ],
   "source": [
    "list(roberta_vocab.keys())"
   ]
  },
  {
   "cell_type": "markdown",
   "metadata": {
    "id": "v5k7Upzz67sO"
   },
   "source": [
    "## Start analyze"
   ]
  },
  {
   "cell_type": "code",
   "execution_count": 12,
   "metadata": {
    "executionInfo": {
     "elapsed": 298,
     "status": "ok",
     "timestamp": 1622183834712,
     "user": {
      "displayName": "許桓瑜",
      "photoUrl": "",
      "userId": "07820383409841659888"
     },
     "user_tz": -480
    },
    "id": "CRIyQs1W67sP"
   },
   "outputs": [],
   "source": [
    "def get_vocab(corpus):\n",
    "    vocabulary = Counter()\n",
    "    for sentence in corpus:\n",
    "        for word in sentence.split():\n",
    "            vocabulary.update([word])\n",
    "    return vocabulary"
   ]
  },
  {
   "cell_type": "code",
   "execution_count": 13,
   "metadata": {
    "executionInfo": {
     "elapsed": 241,
     "status": "ok",
     "timestamp": 1622183837175,
     "user": {
      "displayName": "許桓瑜",
      "photoUrl": "",
      "userId": "07820383409841659888"
     },
     "user_tz": -480
    },
    "id": "u6qLkboo67sP"
   },
   "outputs": [],
   "source": [
    "def check_coverage(vocabs, roberta_vocab):\n",
    "    known_words = {}\n",
    "    unknown_words = {}\n",
    "    known_count = 0\n",
    "    unknown_count = 0\n",
    "    for word in tqdm(vocabs.keys(), desc='Checking: '):\n",
    "        if word in list(roberta_vocab.keys()):\n",
    "            known_words[word] = roberta_vocab[word]\n",
    "            known_count += vocabs[word]\n",
    "        elif 'Ġ' + word in list(roberta_vocab.keys()):\n",
    "            # If we have deep look in roberta tokenizer, many words combine with 'Ġ' since roberta is byte pair encoding\n",
    "            known_words[word] = roberta_vocab['Ġ' + word]\n",
    "            known_count += vocabs[word]            \n",
    "        else:\n",
    "            unknown_words[word] = vocabs[word]\n",
    "            unknown_count += vocabs[word]\n",
    "    print(\"Found embeddings for {:.3%} ({} / {}) of vocab\".format(len(known_words) / len(vocabs), len(known_words), len(vocabs)))\n",
    "    print(\"Found embeddings for {:.3%} ({} / {}) of all text\".format(known_count / (known_count + unknown_count), known_count, (known_count + unknown_count)))\n",
    "    return unknown_words"
   ]
  },
  {
   "cell_type": "code",
   "execution_count": 14,
   "metadata": {
    "colab": {
     "base_uri": "https://localhost:8080/"
    },
    "executionInfo": {
     "elapsed": 10898,
     "status": "ok",
     "timestamp": 1622183852888,
     "user": {
      "displayName": "許桓瑜",
      "photoUrl": "",
      "userId": "07820383409841659888"
     },
     "user_tz": -480
    },
    "id": "6TKyvWWd67sR",
    "outputId": "39f47f4a-7bc8-47ec-8705-7b0bc743b3e9"
   },
   "outputs": [
    {
     "name": "stdout",
     "output_type": "stream",
     "text": [
      "train text unique vocab count is: 84676\n",
      "train reply unique vocab count is: 243082\n"
     ]
    }
   ],
   "source": [
    "train_text_vocab = get_vocab(df_train['text'].values)\n",
    "train_reply_vocab = get_vocab(df_train['reply'].values)\n",
    "print(\"train text unique vocab count is: {}\".format(len(train_text_vocab)))\n",
    "print(\"train reply unique vocab count is: {}\".format(len(train_reply_vocab)))\n",
    "# unknown_text = check_coverage(train_text_vocab, roberta_vocab)\n",
    "# print()\n",
    "# unknown_reply = check_coverage(train_reply_vocab, roberta_vocab)"
   ]
  },
  {
   "cell_type": "code",
   "execution_count": 15,
   "metadata": {
    "colab": {
     "base_uri": "https://localhost:8080/"
    },
    "executionInfo": {
     "elapsed": 2707,
     "status": "ok",
     "timestamp": 1622183924257,
     "user": {
      "displayName": "許桓瑜",
      "photoUrl": "",
      "userId": "07820383409841659888"
     },
     "user_tz": -480
    },
    "id": "pjbPFkjZ67sS",
    "outputId": "5e3fc7fb-059d-44e9-e5db-2217de5df818"
   },
   "outputs": [
    {
     "name": "stdout",
     "output_type": "stream",
     "text": [
      "dev text unique vocab count is: 33864\n",
      "dev reply unique vocab count is: 85467\n"
     ]
    }
   ],
   "source": [
    "dev_text_vocab = get_vocab(df_dev['text'].values)\n",
    "dev_reply_vocab = get_vocab(df_dev['reply'].values)\n",
    "print(\"dev text unique vocab count is: {}\".format(len(dev_text_vocab)))\n",
    "print(\"dev reply unique vocab count is: {}\".format(len(dev_reply_vocab)))\n",
    "# unknown_text = check_coverage(dev_text_vocab, roberta_vocab)\n",
    "# print()\n",
    "# unknown_reply = check_coverage(dev_reply_vocab, roberta_vocab)"
   ]
  },
  {
   "cell_type": "code",
   "execution_count": 16,
   "metadata": {
    "colab": {
     "base_uri": "https://localhost:8080/"
    },
    "executionInfo": {
     "elapsed": 4982,
     "status": "ok",
     "timestamp": 1622183969887,
     "user": {
      "displayName": "許桓瑜",
      "photoUrl": "",
      "userId": "07820383409841659888"
     },
     "user_tz": -480
    },
    "id": "0m1wcMYR67sT",
    "outputId": "4340bb83-df27-493e-f1eb-0eb3dfa0cd24"
   },
   "outputs": [
    {
     "name": "stdout",
     "output_type": "stream",
     "text": [
      "test text unique vocab count is: 18380\n",
      "test reply unique vocab count is: 158246\n"
     ]
    }
   ],
   "source": [
    "test_text_vocab = get_vocab(df_test['text'].values)\n",
    "test_reply_vocab = get_vocab(df_test['reply'].values)\n",
    "print(\"test text unique vocab count is: {}\".format(len(test_text_vocab)))\n",
    "print(\"test reply unique vocab count is: {}\".format(len(test_reply_vocab)))\n",
    "# unknown_text = check_coverage(test_text_vocab, roberta_vocab)\n",
    "# print()\n",
    "# unknown_reply = check_coverage(test_reply_vocab, roberta_vocab)"
   ]
  },
  {
   "cell_type": "markdown",
   "metadata": {
    "id": "F54pPfme67sU"
   },
   "source": [
    "### Try to convert to lower case"
   ]
  },
  {
   "cell_type": "code",
   "execution_count": 17,
   "metadata": {
    "executionInfo": {
     "elapsed": 350,
     "status": "ok",
     "timestamp": 1622183972934,
     "user": {
      "displayName": "許桓瑜",
      "photoUrl": "",
      "userId": "07820383409841659888"
     },
     "user_tz": -480
    },
    "id": "5CczBqKI67sU"
   },
   "outputs": [],
   "source": [
    "def get_vocab_lower(corpus):\n",
    "    vocabulary = Counter()\n",
    "    for sentance in corpus:\n",
    "        for word in sentance.lower().split():\n",
    "            vocabulary.update([word])\n",
    "    return vocabulary"
   ]
  },
  {
   "cell_type": "code",
   "execution_count": 18,
   "metadata": {
    "colab": {
     "base_uri": "https://localhost:8080/"
    },
    "executionInfo": {
     "elapsed": 11004,
     "status": "ok",
     "timestamp": 1622183985322,
     "user": {
      "displayName": "許桓瑜",
      "photoUrl": "",
      "userId": "07820383409841659888"
     },
     "user_tz": -480
    },
    "id": "72-Hd4vn67sV",
    "outputId": "c94c27bd-7745-4ddc-9c90-28ad0ce768ff"
   },
   "outputs": [
    {
     "name": "stdout",
     "output_type": "stream",
     "text": [
      "train text unique vocab count is: 74530\n",
      "train reply unique vocab count is: 216697\n"
     ]
    }
   ],
   "source": [
    "train_text_vocab = get_vocab_lower(df_train['text'].values)\n",
    "train_reply_vocab = get_vocab_lower(df_train['reply'].values)\n",
    "print(\"train text unique vocab count is: {}\".format(len(train_text_vocab)))\n",
    "print(\"train reply unique vocab count is: {}\".format(len(train_reply_vocab)))\n",
    "# unknown_text_lower = check_coverage(train_text_vocab, roberta_vocab)\n",
    "# print()\n",
    "# unknown_reply_lower = check_coverage(train_reply_vocab, roberta_vocab)"
   ]
  },
  {
   "cell_type": "code",
   "execution_count": 19,
   "metadata": {
    "colab": {
     "base_uri": "https://localhost:8080/"
    },
    "executionInfo": {
     "elapsed": 2488,
     "status": "ok",
     "timestamp": 1622179634423,
     "user": {
      "displayName": "zhou",
      "photoUrl": "",
      "userId": "02657240798759677010"
     },
     "user_tz": -480
    },
    "id": "z89pDnTA67sb",
    "outputId": "20b89ce3-8004-47c6-d9bb-e00912f0282e"
   },
   "outputs": [
    {
     "name": "stdout",
     "output_type": "stream",
     "text": [
      "dev text unique vocab count is: 30081\n",
      "dev reply unique vocab count is: 76417\n"
     ]
    }
   ],
   "source": [
    "dev_text_vocab = get_vocab_lower(df_dev['text'].values)\n",
    "dev_reply_vocab = get_vocab_lower(df_dev['reply'].values)\n",
    "print(\"dev text unique vocab count is: {}\".format(len(dev_text_vocab)))\n",
    "print(\"dev reply unique vocab count is: {}\".format(len(dev_reply_vocab)))\n",
    "# unknown_text = check_coverage(dev_text_vocab, roberta_vocab)\n",
    "# print()\n",
    "# unknown_reply = check_coverage(dev_reply_vocab, roberta_vocab)"
   ]
  },
  {
   "cell_type": "code",
   "execution_count": 20,
   "metadata": {
    "colab": {
     "base_uri": "https://localhost:8080/"
    },
    "executionInfo": {
     "elapsed": 4685,
     "status": "ok",
     "timestamp": 1622179639381,
     "user": {
      "displayName": "zhou",
      "photoUrl": "",
      "userId": "02657240798759677010"
     },
     "user_tz": -480
    },
    "id": "O3edA-aP67sc",
    "outputId": "346a43ca-6ad0-426e-dc42-4b72866549c5"
   },
   "outputs": [
    {
     "name": "stdout",
     "output_type": "stream",
     "text": [
      "test text unique vocab count is: 16587\n",
      "test reply unique vocab count is: 141585\n"
     ]
    }
   ],
   "source": [
    "test_text_vocab = get_vocab_lower(df_test['text'].values)\n",
    "test_reply_vocab = get_vocab_lower(df_test['reply'].values)\n",
    "print(\"test text unique vocab count is: {}\".format(len(test_text_vocab)))\n",
    "print(\"test reply unique vocab count is: {}\".format(len(test_reply_vocab)))\n",
    "# unknown_text = check_coverage(test_text_vocab, roberta_vocab)\n",
    "# print()\n",
    "# unknown_reply = check_coverage(test_reply_vocab, roberta_vocab)"
   ]
  },
  {
   "cell_type": "markdown",
   "metadata": {
    "id": "5C7NKrji67sd"
   },
   "source": [
    "### Show some unknown tokens!"
   ]
  },
  {
   "cell_type": "code",
   "execution_count": 20,
   "metadata": {
    "executionInfo": {
     "elapsed": 480,
     "status": "ok",
     "timestamp": 1622184219829,
     "user": {
      "displayName": "許桓瑜",
      "photoUrl": "",
      "userId": "07820383409841659888"
     },
     "user_tz": -480
    },
    "id": "L4_vMbza67sd"
   },
   "outputs": [],
   "source": [
    "# unknown_text"
   ]
  },
  {
   "cell_type": "markdown",
   "metadata": {
    "id": "gPZU0KAs67se"
   },
   "source": [
    "## Clean weird punctuations"
   ]
  },
  {
   "cell_type": "markdown",
   "metadata": {
    "id": "iEex7A4A67sf"
   },
   "source": [
    "#### No significantly improve"
   ]
  },
  {
   "cell_type": "code",
   "execution_count": 21,
   "metadata": {
    "executionInfo": {
     "elapsed": 454,
     "status": "ok",
     "timestamp": 1622184224529,
     "user": {
      "displayName": "許桓瑜",
      "photoUrl": "",
      "userId": "07820383409841659888"
     },
     "user_tz": -480
    },
    "id": "AvwUQ-fK67sg"
   },
   "outputs": [],
   "source": [
    "def clean_weird(text):\n",
    "    specials = [\"’\", \"‘\", \"´\", \"`\"]\n",
    "    text = text.replace(\"’\", \"'\")\n",
    "    text = text.replace(\"‘\", \"'\")\n",
    "    text = text.replace(\"´\", \"'\")\n",
    "    text = text.replace(\"`\", \"'\")\n",
    "    return text"
   ]
  },
  {
   "cell_type": "code",
   "execution_count": 22,
   "metadata": {
    "executionInfo": {
     "elapsed": 505,
     "status": "ok",
     "timestamp": 1622184225029,
     "user": {
      "displayName": "許桓瑜",
      "photoUrl": "",
      "userId": "07820383409841659888"
     },
     "user_tz": -480
    },
    "id": "8SKIS59R67sg"
   },
   "outputs": [],
   "source": [
    "df_train['text'] = df_train.text.apply(clean_weird)\n",
    "df_train['reply'] = df_train.reply.apply(clean_weird)"
   ]
  },
  {
   "cell_type": "code",
   "execution_count": 23,
   "metadata": {
    "executionInfo": {
     "elapsed": 8,
     "status": "ok",
     "timestamp": 1622184225030,
     "user": {
      "displayName": "許桓瑜",
      "photoUrl": "",
      "userId": "07820383409841659888"
     },
     "user_tz": -480
    },
    "id": "1cCUijfK67sh"
   },
   "outputs": [],
   "source": [
    "df_dev['text'] = df_dev.text.apply(clean_weird)\n",
    "df_dev['reply'] = df_dev.reply.apply(clean_weird)"
   ]
  },
  {
   "cell_type": "code",
   "execution_count": 24,
   "metadata": {
    "executionInfo": {
     "elapsed": 420,
     "status": "ok",
     "timestamp": 1622184225443,
     "user": {
      "displayName": "許桓瑜",
      "photoUrl": "",
      "userId": "07820383409841659888"
     },
     "user_tz": -480
    },
    "id": "TYKLeFnq67sh"
   },
   "outputs": [],
   "source": [
    "df_test['text'] = df_test.text.apply(clean_weird)\n",
    "df_test['reply'] = df_test.reply.apply(clean_weird)"
   ]
  },
  {
   "cell_type": "code",
   "execution_count": 25,
   "metadata": {
    "colab": {
     "base_uri": "https://localhost:8080/"
    },
    "executionInfo": {
     "elapsed": 10935,
     "status": "ok",
     "timestamp": 1622184259499,
     "user": {
      "displayName": "許桓瑜",
      "photoUrl": "",
      "userId": "07820383409841659888"
     },
     "user_tz": -480
    },
    "id": "3POt27g967sh",
    "outputId": "25e3deee-cae9-436a-eb94-104598f7ca9e"
   },
   "outputs": [
    {
     "name": "stdout",
     "output_type": "stream",
     "text": [
      "train text unique vocab count is: 84372\n",
      "train reply unique vocab count is: 242259\n"
     ]
    }
   ],
   "source": [
    "train_text_vocab = get_vocab(df_train['text'].values)\n",
    "train_reply_vocab = get_vocab(df_train['reply'].values)\n",
    "print(\"train text unique vocab count is: {}\".format(len(train_text_vocab)))\n",
    "print(\"train reply unique vocab count is: {}\".format(len(train_reply_vocab)))\n",
    "# unknown_text = check_coverage(train_text_vocab, roberta_vocab)\n",
    "# print()\n",
    "# unknown_reply = check_coverage(train_reply_vocab, roberta_vocab)"
   ]
  },
  {
   "cell_type": "code",
   "execution_count": 26,
   "metadata": {
    "colab": {
     "base_uri": "https://localhost:8080/"
    },
    "executionInfo": {
     "elapsed": 3281,
     "status": "ok",
     "timestamp": 1622184275602,
     "user": {
      "displayName": "許桓瑜",
      "photoUrl": "",
      "userId": "07820383409841659888"
     },
     "user_tz": -480
    },
    "id": "uv6KBZpa67si",
    "outputId": "b2dddc63-ffe3-4c06-98f1-7e1639199487"
   },
   "outputs": [
    {
     "name": "stdout",
     "output_type": "stream",
     "text": [
      "dev text unique vocab count is: 33733\n",
      "dev reply unique vocab count is: 85206\n"
     ]
    }
   ],
   "source": [
    "dev_text_vocab = get_vocab(df_dev['text'].values)\n",
    "dev_reply_vocab = get_vocab(df_dev['reply'].values)\n",
    "print(\"dev text unique vocab count is: {}\".format(len(dev_text_vocab)))\n",
    "print(\"dev reply unique vocab count is: {}\".format(len(dev_reply_vocab)))\n",
    "# unknown_text = check_coverage(dev_text_vocab, roberta_vocab)\n",
    "# print()\n",
    "# unknown_reply = check_coverage(dev_reply_vocab, roberta_vocab)"
   ]
  },
  {
   "cell_type": "code",
   "execution_count": 27,
   "metadata": {
    "colab": {
     "base_uri": "https://localhost:8080/"
    },
    "executionInfo": {
     "elapsed": 5190,
     "status": "ok",
     "timestamp": 1622184282779,
     "user": {
      "displayName": "許桓瑜",
      "photoUrl": "",
      "userId": "07820383409841659888"
     },
     "user_tz": -480
    },
    "id": "XFbGndsO67sj",
    "outputId": "187d2906-2e1c-45e6-97be-f017785ed2d7"
   },
   "outputs": [
    {
     "name": "stdout",
     "output_type": "stream",
     "text": [
      "test text unique vocab count is: 18306\n",
      "test reply unique vocab count is: 157848\n"
     ]
    }
   ],
   "source": [
    "test_text_vocab = get_vocab(df_test['text'].values)\n",
    "test_reply_vocab = get_vocab(df_test['reply'].values)\n",
    "print(\"test text unique vocab count is: {}\".format(len(test_text_vocab)))\n",
    "print(\"test reply unique vocab count is: {}\".format(len(test_reply_vocab)))\n",
    "# unknown_text = check_coverage(test_text_vocab, roberta_vocab)\n",
    "# print()\n",
    "# unknown_reply = check_coverage(test_reply_vocab, roberta_vocab)"
   ]
  },
  {
   "cell_type": "markdown",
   "metadata": {
    "id": "NWoVqRZM67sj"
   },
   "source": [
    "## Transform apostrophes"
   ]
  },
  {
   "cell_type": "code",
   "execution_count": 28,
   "metadata": {
    "executionInfo": {
     "elapsed": 729,
     "status": "ok",
     "timestamp": 1622184289249,
     "user": {
      "displayName": "許桓瑜",
      "photoUrl": "",
      "userId": "07820383409841659888"
     },
     "user_tz": -480
    },
    "id": "0_iewumq67sk"
   },
   "outputs": [],
   "source": [
    "apostrophes = {\"ain't\": \"is not\", \"aren't\": \"are not\",\"can't\": \"cannot\", \"'cause\": \"because\", \"could've\": \"could have\", \"couldn't\": \"could not\", \"didn't\": \"did not\",  \"doesn't\": \"does not\", \"don't\": \"do not\", \"hadn't\": \"had not\", \"hasn't\": \"has not\", \"haven't\": \"have not\", \"he'd\": \"he would\",\"he'll\": \"he will\", \"he's\": \"he is\", \"how'd\": \"how did\", \"how'd'y\": \"how do you\", \"how'll\": \"how will\", \"how's\": \"how is\",  \"I'd\": \"I would\", \"I'd've\": \"I would have\", \"I'll\": \"I will\", \"I'll've\": \"I will have\",\"I'm\": \"I am\", \"I've\": \"I have\", \"i'd\": \"i would\", \"i'd've\": \"i would have\", \"i'll\": \"i will\",  \"i'll've\": \"i will have\",\"i'm\": \"i am\", \"i've\": \"i have\", \"isn't\": \"is not\", \"it'd\": \"it would\", \"it'd've\": \"it would have\", \"it'll\": \"it will\", \"it'll've\": \"it will have\",\"it's\": \"it is\", \"let's\": \"let us\", \"ma'am\": \"madam\", \"mayn't\": \"may not\", \"might've\": \"might have\",\"mightn't\": \"might not\",\"mightn't've\": \"might not have\", \"must've\": \"must have\", \"mustn't\": \"must not\", \"mustn't've\": \"must not have\", \"needn't\": \"need not\", \"needn't've\": \"need not have\",\"o'clock\": \"of the clock\", \"oughtn't\": \"ought not\", \"oughtn't've\": \"ought not have\", \"shan't\": \"shall not\", \"sha'n't\": \"shall not\", \"shan't've\": \"shall not have\", \"she'd\": \"she would\", \"she'd've\": \"she would have\", \"she'll\": \"she will\", \"she'll've\": \"she will have\", \"she's\": \"she is\", \"should've\": \"should have\", \"shouldn't\": \"should not\", \"shouldn't've\": \"should not have\", \"so've\": \"so have\",\"so's\": \"so as\", \"this's\": \"this is\",\"that'd\": \"that would\", \"that'd've\": \"that would have\", \"that's\": \"that is\", \"there'd\": \"there would\", \"there'd've\": \"there would have\", \"there's\": \"there is\", \"here's\": \"here is\",\"they'd\": \"they would\", \"they'd've\": \"they would have\", \"they'll\": \"they will\", \"they'll've\": \"they will have\", \"they're\": \"they are\", \"they've\": \"they have\", \"to've\": \"to have\", \"wasn't\": \"was not\", \"we'd\": \"we would\", \"we'd've\": \"we would have\", \"we'll\": \"we will\", \"we'll've\": \"we will have\", \"we're\": \"we are\", \"we've\": \"we have\", \"weren't\": \"were not\", \"what'll\": \"what will\", \"what'll've\": \"what will have\", \"what're\": \"what are\",  \"what's\": \"what is\", \"what've\": \"what have\", \"when's\": \"when is\", \"when've\": \"when have\", \"where'd\": \"where did\", \"where's\": \"where is\", \"where've\": \"where have\", \"who'll\": \"who will\", \"who'll've\": \"who will have\", \"who's\": \"who is\", \"who've\": \"who have\", \"why's\": \"why is\", \"why've\": \"why have\", \"will've\": \"will have\", \"won't\": \"will not\", \"won't've\": \"will not have\", \"would've\": \"would have\", \"wouldn't\": \"would not\", \"wouldn't've\": \"would not have\", \"y'all\": \"you all\", \"y'all'd\": \"you all would\",\"y'all'd've\": \"you all would have\",\"y'all're\": \"you all are\",\"y'all've\": \"you all have\",\"you'd\": \"you would\", \"you'd've\": \"you would have\", \"you'll\": \"you will\", \"you'll've\": \"you will have\", \"you're\": \"you are\", \"you've\": \"you have\" }"
   ]
  },
  {
   "cell_type": "code",
   "execution_count": 29,
   "metadata": {
    "executionInfo": {
     "elapsed": 5,
     "status": "ok",
     "timestamp": 1622184292249,
     "user": {
      "displayName": "許桓瑜",
      "photoUrl": "",
      "userId": "07820383409841659888"
     },
     "user_tz": -480
    },
    "id": "_Jarr18k67sl"
   },
   "outputs": [],
   "source": [
    "def change_apostrophes(text):\n",
    "    # Replace apostrophes to original term\n",
    "    for key in apostrophes.keys():\n",
    "        text = text.replace(key, apostrophes[key])\n",
    "    return text"
   ]
  },
  {
   "cell_type": "code",
   "execution_count": 30,
   "metadata": {
    "executionInfo": {
     "elapsed": 10968,
     "status": "ok",
     "timestamp": 1622184305184,
     "user": {
      "displayName": "許桓瑜",
      "photoUrl": "",
      "userId": "07820383409841659888"
     },
     "user_tz": -480
    },
    "id": "-oneV99167sm",
    "scrolled": true
   },
   "outputs": [],
   "source": [
    "df_train['text'] = df_train.text.apply(change_apostrophes)\n",
    "df_train['reply'] = df_train.reply.apply(change_apostrophes)"
   ]
  },
  {
   "cell_type": "code",
   "execution_count": 31,
   "metadata": {
    "executionInfo": {
     "elapsed": 3126,
     "status": "ok",
     "timestamp": 1622184310940,
     "user": {
      "displayName": "許桓瑜",
      "photoUrl": "",
      "userId": "07820383409841659888"
     },
     "user_tz": -480
    },
    "id": "clCeTiRM67sm"
   },
   "outputs": [],
   "source": [
    "df_dev['text'] = df_dev.text.apply(change_apostrophes)\n",
    "df_dev['reply'] = df_dev.reply.apply(change_apostrophes)"
   ]
  },
  {
   "cell_type": "code",
   "execution_count": 32,
   "metadata": {
    "executionInfo": {
     "elapsed": 5749,
     "status": "ok",
     "timestamp": 1622184318234,
     "user": {
      "displayName": "許桓瑜",
      "photoUrl": "",
      "userId": "07820383409841659888"
     },
     "user_tz": -480
    },
    "id": "BLUK_I0M67sm"
   },
   "outputs": [],
   "source": [
    "df_test['text'] = df_test.text.apply(change_apostrophes)\n",
    "df_test['reply'] = df_test.reply.apply(change_apostrophes)"
   ]
  },
  {
   "cell_type": "code",
   "execution_count": 33,
   "metadata": {
    "colab": {
     "base_uri": "https://localhost:8080/"
    },
    "executionInfo": {
     "elapsed": 11035,
     "status": "ok",
     "timestamp": 1622184331306,
     "user": {
      "displayName": "許桓瑜",
      "photoUrl": "",
      "userId": "07820383409841659888"
     },
     "user_tz": -480
    },
    "id": "0hQrp7-q67sn",
    "outputId": "5e53bbb2-4b4c-4dfc-f4fa-e36fe52c5d01",
    "scrolled": true
   },
   "outputs": [
    {
     "name": "stdout",
     "output_type": "stream",
     "text": [
      "train text unique vocab count is: 84203\n",
      "train reply unique vocab count is: 241990\n"
     ]
    }
   ],
   "source": [
    "train_text_vocab = get_vocab(df_train['text'].values)\n",
    "train_reply_vocab = get_vocab(df_train['reply'].values)\n",
    "print(\"train text unique vocab count is: {}\".format(len(train_text_vocab)))\n",
    "print(\"train reply unique vocab count is: {}\".format(len(train_reply_vocab)))\n",
    "# unknown_text = check_coverage(train_text_vocab, roberta_vocab)\n",
    "# print()\n",
    "# unknown_reply = check_coverage(train_reply_vocab, roberta_vocab)"
   ]
  },
  {
   "cell_type": "code",
   "execution_count": 34,
   "metadata": {
    "colab": {
     "base_uri": "https://localhost:8080/"
    },
    "executionInfo": {
     "elapsed": 2932,
     "status": "ok",
     "timestamp": 1622184364803,
     "user": {
      "displayName": "許桓瑜",
      "photoUrl": "",
      "userId": "07820383409841659888"
     },
     "user_tz": -480
    },
    "id": "VpuFp6Lr67sn",
    "outputId": "993bc803-3818-48b3-a1c4-b75e39c303ba"
   },
   "outputs": [
    {
     "name": "stdout",
     "output_type": "stream",
     "text": [
      "dev text unique vocab count is: 33645\n",
      "dev reply unique vocab count is: 85077\n"
     ]
    }
   ],
   "source": [
    "dev_text_vocab = get_vocab(df_dev['text'].values)\n",
    "dev_reply_vocab = get_vocab(df_dev['reply'].values)\n",
    "print(\"dev text unique vocab count is: {}\".format(len(dev_text_vocab)))\n",
    "print(\"dev reply unique vocab count is: {}\".format(len(dev_reply_vocab)))\n",
    "# unknown_text = check_coverage(dev_text_vocab, roberta_vocab)\n",
    "# print()\n",
    "# unknown_reply = check_coverage(dev_reply_vocab, roberta_vocab)"
   ]
  },
  {
   "cell_type": "code",
   "execution_count": 35,
   "metadata": {
    "colab": {
     "base_uri": "https://localhost:8080/"
    },
    "executionInfo": {
     "elapsed": 5342,
     "status": "ok",
     "timestamp": 1622184372505,
     "user": {
      "displayName": "許桓瑜",
      "photoUrl": "",
      "userId": "07820383409841659888"
     },
     "user_tz": -480
    },
    "id": "4JZjXnVN67so",
    "outputId": "76af4e90-54d9-4963-83ca-b8b65f216cb2"
   },
   "outputs": [
    {
     "name": "stdout",
     "output_type": "stream",
     "text": [
      "test text unique vocab count is: 18241\n",
      "test reply unique vocab count is: 157666\n"
     ]
    }
   ],
   "source": [
    "test_text_vocab = get_vocab(df_test['text'].values)\n",
    "test_reply_vocab = get_vocab(df_test['reply'].values)\n",
    "print(\"test text unique vocab count is: {}\".format(len(test_text_vocab)))\n",
    "print(\"test reply unique vocab count is: {}\".format(len(test_reply_vocab)))\n",
    "# unknown_text = check_coverage(test_text_vocab, roberta_vocab)\n",
    "# print()\n",
    "# unknown_reply = check_coverage(test_reply_vocab, roberta_vocab)"
   ]
  },
  {
   "cell_type": "code",
   "execution_count": null,
   "metadata": {
    "colab": {
     "base_uri": "https://localhost:8080/",
     "height": 169
    },
    "executionInfo": {
     "elapsed": 403,
     "status": "error",
     "timestamp": 1622179740068,
     "user": {
      "displayName": "zhou",
      "photoUrl": "",
      "userId": "02657240798759677010"
     },
     "user_tz": -480
    },
    "id": "W-FygYME67sp",
    "outputId": "01d49ea8-beed-4d68-92e9-c3636d584e82"
   },
   "outputs": [
    {
     "ename": "NameError",
     "evalue": "ignored",
     "output_type": "error",
     "traceback": [
      "\u001b[0;31m---------------------------------------------------------------------------\u001b[0m",
      "\u001b[0;31mNameError\u001b[0m                                 Traceback (most recent call last)",
      "\u001b[0;32m<ipython-input-43-6c7bd2e2ca78>\u001b[0m in \u001b[0;36m<module>\u001b[0;34m()\u001b[0m\n\u001b[0;32m----> 1\u001b[0;31m \u001b[0munknown_text\u001b[0m\u001b[0;34m\u001b[0m\u001b[0;34m\u001b[0m\u001b[0m\n\u001b[0m",
      "\u001b[0;31mNameError\u001b[0m: name 'unknown_text' is not defined"
     ]
    }
   ],
   "source": [
    "# unknown_text"
   ]
  },
  {
   "cell_type": "markdown",
   "metadata": {
    "id": "saNxUvOh67sq"
   },
   "source": [
    "## Check punctuations that roberta unknown "
   ]
  },
  {
   "cell_type": "code",
   "execution_count": 36,
   "metadata": {
    "executionInfo": {
     "elapsed": 460,
     "status": "ok",
     "timestamp": 1622184403807,
     "user": {
      "displayName": "許桓瑜",
      "photoUrl": "",
      "userId": "07820383409841659888"
     },
     "user_tz": -480
    },
    "id": "1fmRKTWp67sq"
   },
   "outputs": [],
   "source": [
    "punct = \"/-'?!.,#$%\\'()*+-/:;<=>@[\\\\]^_`{|}~\" + '\"\"“”’' + '∞θ÷α•à−β∅³π‘₹´°£€\\×™√²—–&'\n",
    "def unknown_punctuation(roberta_vocab):\n",
    "    unknown = ''\n",
    "    for char in punct:\n",
    "        if char not in list(roberta_vocab.keys()):\n",
    "            unknown += char\n",
    "            unknown += ' '\n",
    "    return unknown"
   ]
  },
  {
   "cell_type": "code",
   "execution_count": 37,
   "metadata": {
    "colab": {
     "base_uri": "https://localhost:8080/"
    },
    "executionInfo": {
     "elapsed": 880,
     "status": "ok",
     "timestamp": 1622184406604,
     "user": {
      "displayName": "許桓瑜",
      "photoUrl": "",
      "userId": "07820383409841659888"
     },
     "user_tz": -480
    },
    "id": "mwsE2yzp67sq",
    "outputId": "201461b7-a236-42af-e9c6-399f9c033815"
   },
   "outputs": [
    {
     "name": "stdout",
     "output_type": "stream",
     "text": [
      "Roberta unknown: \n",
      "“ ” ’ ∞ θ α • − β ∅ π ‘ ₹ € ™ √ — – \n"
     ]
    }
   ],
   "source": [
    "print(\"Roberta unknown: \")\n",
    "print(unknown_punctuation(roberta_vocab))"
   ]
  },
  {
   "cell_type": "markdown",
   "metadata": {
    "id": "L2HBwnjH67sr"
   },
   "source": [
    "### Mapping unknown to known punctuations"
   ]
  },
  {
   "cell_type": "code",
   "execution_count": 38,
   "metadata": {
    "executionInfo": {
     "elapsed": 530,
     "status": "ok",
     "timestamp": 1622184412186,
     "user": {
      "displayName": "許桓瑜",
      "photoUrl": "",
      "userId": "07820383409841659888"
     },
     "user_tz": -480
    },
    "id": "S_mB7SXw67sr"
   },
   "outputs": [],
   "source": [
    "def change_punc(text):\n",
    "    punct_mapping = {\"‘\": \"'\", \"₹\": \"e\", \"´\": \"'\", \"°\": \"\", \"€\": \"e\", \"™\": \"tm\", \"√\": \" sqrt \", \"×\": \"x\", \"²\": \"2\", \"—\": \"-\", \"–\": \"-\", \"’\": \"'\", \"_\": \"-\", \"`\": \"'\", '“': '\"', '”': '\"', '“': '\"', \"£\": \"e\", '∞': 'infinity', 'θ': 'theta', '÷': '/', 'α': 'alpha', '•': '.', 'à': 'a', '−': '-', 'β': 'beta', '∅': '', '³': '3', 'π': 'pi', }\n",
    "    for p in punct_mapping:\n",
    "        text = text.replace(p, punct_mapping[p])\n",
    "    for p in punct:\n",
    "        text = text.replace(p, ' {} '.format(p))\n",
    "    return text"
   ]
  },
  {
   "cell_type": "code",
   "execution_count": 39,
   "metadata": {
    "executionInfo": {
     "elapsed": 12825,
     "status": "ok",
     "timestamp": 1622184527985,
     "user": {
      "displayName": "許桓瑜",
      "photoUrl": "",
      "userId": "07820383409841659888"
     },
     "user_tz": -480
    },
    "id": "vyqw9hHl67ss"
   },
   "outputs": [],
   "source": [
    "df_train['map_punc_text'] = df_train.text.apply(change_punc)\n",
    "df_train['map_punc_reply'] = df_train.reply.apply(change_punc)"
   ]
  },
  {
   "cell_type": "code",
   "execution_count": 40,
   "metadata": {
    "id": "0Fqzw6tv67ss"
   },
   "outputs": [],
   "source": [
    "df_dev['map_punc_text'] = df_dev.text.apply(change_punc)\n",
    "df_dev['map_punc_reply'] = df_dev.reply.apply(change_punc)"
   ]
  },
  {
   "cell_type": "code",
   "execution_count": 41,
   "metadata": {
    "id": "R7z2-Dm767ss"
   },
   "outputs": [],
   "source": [
    "df_test['map_punc_text'] = df_test.text.apply(change_punc)\n",
    "df_test['map_punc_reply'] = df_test.reply.apply(change_punc)"
   ]
  },
  {
   "cell_type": "code",
   "execution_count": 42,
   "metadata": {
    "colab": {
     "base_uri": "https://localhost:8080/"
    },
    "executionInfo": {
     "elapsed": 15463,
     "status": "ok",
     "timestamp": 1622179891252,
     "user": {
      "displayName": "zhou",
      "photoUrl": "",
      "userId": "02657240798759677010"
     },
     "user_tz": -480
    },
    "id": "AU-72NQN67st",
    "outputId": "8965c445-be94-405c-f630-3a800beecc41"
   },
   "outputs": [
    {
     "name": "stdout",
     "output_type": "stream",
     "text": [
      "train text unique vocab count is: 56490\n",
      "train reply unique vocab count is: 156122\n",
      "\n"
     ]
    }
   ],
   "source": [
    "train_text_vocab = get_vocab(df_train['map_punc_text'].values)\n",
    "train_reply_vocab = get_vocab(df_train['map_punc_reply'].values)\n",
    "print(\"train text unique vocab count is: {}\".format(len(train_text_vocab)))\n",
    "print(\"train reply unique vocab count is: {}\".format(len(train_reply_vocab)))\n",
    "print()\n",
    "\n",
    "# unknown_text = check_coverage(train_text_vocab, roberta_vocab)\n",
    "# print()\n",
    "# unknown_reply = check_coverage(train_reply_vocab, roberta_vocab)"
   ]
  },
  {
   "cell_type": "code",
   "execution_count": 43,
   "metadata": {
    "colab": {
     "base_uri": "https://localhost:8080/"
    },
    "executionInfo": {
     "elapsed": 3744,
     "status": "ok",
     "timestamp": 1622179894983,
     "user": {
      "displayName": "zhou",
      "photoUrl": "",
      "userId": "02657240798759677010"
     },
     "user_tz": -480
    },
    "id": "CIXr7Q8h67st",
    "outputId": "0be65fcc-eef6-4828-e5b6-6c9191b1e35c"
   },
   "outputs": [
    {
     "name": "stdout",
     "output_type": "stream",
     "text": [
      "dev text unique vocab count is: 24399\n",
      "dev reply unique vocab count is: 58692\n"
     ]
    }
   ],
   "source": [
    "dev_text_vocab = get_vocab(df_dev['map_punc_text'].values)\n",
    "dev_reply_vocab = get_vocab(df_dev['map_punc_reply'].values)\n",
    "print(\"dev text unique vocab count is: {}\".format(len(dev_text_vocab)))\n",
    "print(\"dev reply unique vocab count is: {}\".format(len(dev_reply_vocab)))\n",
    "# unknown_text = check_coverage(dev_text_vocab, roberta_vocab)\n",
    "# print()\n",
    "# unknown_reply = check_coverage(dev_reply_vocab, roberta_vocab)"
   ]
  },
  {
   "cell_type": "code",
   "execution_count": 44,
   "metadata": {
    "colab": {
     "base_uri": "https://localhost:8080/"
    },
    "executionInfo": {
     "elapsed": 6671,
     "status": "ok",
     "timestamp": 1622179901652,
     "user": {
      "displayName": "zhou",
      "photoUrl": "",
      "userId": "02657240798759677010"
     },
     "user_tz": -480
    },
    "id": "8F5iL7is67su",
    "outputId": "0e731993-3316-4789-cae9-48e83d050b5e"
   },
   "outputs": [
    {
     "name": "stdout",
     "output_type": "stream",
     "text": [
      "test text unique vocab count is: 14799\n",
      "test reply unique vocab count is: 111945\n"
     ]
    }
   ],
   "source": [
    "test_text_vocab = get_vocab(df_test['map_punc_text'].values)\n",
    "test_reply_vocab = get_vocab(df_test['map_punc_reply'].values)\n",
    "print(\"test text unique vocab count is: {}\".format(len(test_text_vocab)))\n",
    "print(\"test reply unique vocab count is: {}\".format(len(test_reply_vocab)))\n",
    "# unknown_text = check_coverage(test_text_vocab, roberta_vocab)\n",
    "# print()\n",
    "# unknown_reply = check_coverage(test_reply_vocab, roberta_vocab)"
   ]
  },
  {
   "cell_type": "code",
   "execution_count": 45,
   "metadata": {
    "id": "kmhPOxYu67su"
   },
   "outputs": [],
   "source": [
    "# sorted(unknown_text.items(), key=lambda d: d[1], reverse=True) "
   ]
  },
  {
   "cell_type": "markdown",
   "metadata": {
    "id": "qe-mp_Jd67sv"
   },
   "source": [
    "### Transform more words"
   ]
  },
  {
   "cell_type": "code",
   "execution_count": 46,
   "metadata": {
    "id": "oerCQBEW67sv"
   },
   "outputs": [],
   "source": [
    "more_apostrophes = {'cannot': \"can not\", 'gonna': \"go to\", 'wanna': \"want to\", 'coronavirus': \"COVID\", 'wanted': \"want\", 'weeks': \"week\", 'feeling': \"feel\", 'says': \"say\", 'yourself': \"your self\", 'saying': \"say\", 'says': \"say\", 'GIF': \"gif\", 'waiting': \"wait\", 'Covid': \"COVID\", 'hugs': \"hug\", 'gave': \"give\", 'COVID19': \"COVID\", 'installing': \"install\", 'wants': \"want\", 'knows': \"know\", 'describes': \"describe\", 'following': \"follow\", 'asked': \"ask\", 'amazing': \"amaze\", 'finally': \"final\", 'minutes': \"minute\", 'died': \"die\", 'tired': \"tire\", 'quickly': \"quick\", 'gotta': \"go to\", 'deaths': \"death\", 'means': \"mean\", 'took': \"take\", 'feels': \"feel\", 'fans': \"fan\", 'numbers': \"number\", 'lives': \"live\", 'safely': \"safe\", 'tried': \"try\", 'businesses': \"business\", '2nd': \"second\", 'decided': \"decide\", '3rd': \"third\", 'hates': \"hate\", 'dont': \"do not\", 'lonely': \"lone\", 'totally': \"total\", 'excited': \"excite\", 'BREAKING': \"break\", 'gifs': \"gif\", 'goes': \"go\", 'thoughts': \"thought\", 'campaigning': \"campaign\", 'immediately': \"immediate\", 'teammates': \"team mate\", 'knew': \"know\", 'politicians': \"politician\", 'distancing': \"distance\", 'reopening': \"reopen\", 'pls': \"please\", 'AGAIN': \"again\", 'tears': \"tear\", 'supposed': \"suppose\", 'loved': \"love\", 'ppl': \"people\", 'drinking': \"drink\", 'Guidelines': \"guide line\", 'losing': \"lose\", 'Conference': \"conference\", 'officially': \"official\", 'OPENING': \"open\", 'buying': \"buy\", 'Gif': \"gif\", 'looks': \"look\", 'bought': \"buy\", 'likes': \"like\", 'truely': \"true\", 'happened': \"happen\", 'putting': \"put\", 'families': \"family\", 'moved': \"move\", 'Raise': \"raise\", 'helped': \"help\", 'vibes': \"vibe\", 'voting': \"vote\", 'showed': \"show\", 'Instagram': \"instagram\", 'spent': \"spend\", 'watched': \"watch\", 'kinda': \"kind of\", 'Governor': \"governor\", 'Coronavirus': \"COVID\", 'lmao': \"laugh\", 'seems': \"seem\", 'staying': \"stay\", 'listening': \"listen\", 'accounts': \"account\"}\n",
    "def change_punc(text):\n",
    "    for key in more_apostrophes.keys():\n",
    "        text = text.replace(key, more_apostrophes[key])\n",
    "    return text"
   ]
  },
  {
   "cell_type": "code",
   "execution_count": 47,
   "metadata": {
    "id": "0lhEh9W167sw"
   },
   "outputs": [],
   "source": [
    "df_train['map_more_punc_text'] = df_train.map_punc_text.apply(change_punc)\n",
    "df_train['map_more_punc_reply'] = df_train.map_punc_reply.apply(change_punc)"
   ]
  },
  {
   "cell_type": "code",
   "execution_count": 48,
   "metadata": {
    "id": "qA7BlCmH67sw"
   },
   "outputs": [],
   "source": [
    "df_dev['map_more_punc_text'] = df_dev.map_punc_text.apply(change_punc)\n",
    "df_dev['map_more_punc_reply'] = df_dev.map_punc_reply.apply(change_punc)"
   ]
  },
  {
   "cell_type": "code",
   "execution_count": 49,
   "metadata": {
    "id": "TaO4pYSn67sx"
   },
   "outputs": [],
   "source": [
    "df_test['map_more_punc_text'] = df_test.map_punc_text.apply(change_punc)\n",
    "df_test['map_more_punc_reply'] = df_test.map_punc_reply.apply(change_punc)"
   ]
  },
  {
   "cell_type": "code",
   "execution_count": 50,
   "metadata": {
    "colab": {
     "base_uri": "https://localhost:8080/"
    },
    "executionInfo": {
     "elapsed": 15414,
     "status": "ok",
     "timestamp": 1622179932439,
     "user": {
      "displayName": "zhou",
      "photoUrl": "",
      "userId": "02657240798759677010"
     },
     "user_tz": -480
    },
    "id": "dbv7yEIU67sx",
    "outputId": "55735ae4-82e0-45a3-af3c-a44efd5af597"
   },
   "outputs": [
    {
     "name": "stdout",
     "output_type": "stream",
     "text": [
      "train text unique vocab count is: 56372\n",
      "train reply unique vocab count is: 155996\n",
      "\n"
     ]
    }
   ],
   "source": [
    "train_text_vocab = get_vocab(df_train['map_more_punc_text'].values)\n",
    "train_reply_vocab = get_vocab(df_train['map_more_punc_reply'].values)\n",
    "print(\"train text unique vocab count is: {}\".format(len(train_text_vocab)))\n",
    "print(\"train reply unique vocab count is: {}\".format(len(train_reply_vocab)))\n",
    "print()\n",
    "\n",
    "# unknown_text = check_coverage(train_text_vocab, roberta_vocab)\n",
    "# print()\n",
    "# unknown_reply = check_coverage(train_reply_vocab, roberta_vocab)"
   ]
  },
  {
   "cell_type": "code",
   "execution_count": 51,
   "metadata": {
    "colab": {
     "base_uri": "https://localhost:8080/"
    },
    "executionInfo": {
     "elapsed": 3865,
     "status": "ok",
     "timestamp": 1622179936294,
     "user": {
      "displayName": "zhou",
      "photoUrl": "",
      "userId": "02657240798759677010"
     },
     "user_tz": -480
    },
    "id": "GA7qdIxl67sy",
    "outputId": "540d3886-cb27-4b48-feea-3b6bcfa668f6"
   },
   "outputs": [
    {
     "name": "stdout",
     "output_type": "stream",
     "text": [
      "dev text unique vocab count is: 24290\n",
      "dev reply unique vocab count is: 58589\n"
     ]
    }
   ],
   "source": [
    "dev_text_vocab = get_vocab(df_dev['map_more_punc_text'].values)\n",
    "dev_reply_vocab = get_vocab(df_dev['map_more_punc_reply'].values)\n",
    "print(\"dev text unique vocab count is: {}\".format(len(dev_text_vocab)))\n",
    "print(\"dev reply unique vocab count is: {}\".format(len(dev_reply_vocab)))\n",
    "# unknown_text = check_coverage(dev_text_vocab, roberta_vocab)\n",
    "# print()\n",
    "# unknown_reply = check_coverage(dev_reply_vocab, roberta_vocab)"
   ]
  },
  {
   "cell_type": "code",
   "execution_count": 52,
   "metadata": {
    "colab": {
     "base_uri": "https://localhost:8080/"
    },
    "executionInfo": {
     "elapsed": 6897,
     "status": "ok",
     "timestamp": 1622179943185,
     "user": {
      "displayName": "zhou",
      "photoUrl": "",
      "userId": "02657240798759677010"
     },
     "user_tz": -480
    },
    "id": "Aw8d6YiQ67sy",
    "outputId": "4dc0a08f-de5a-4a9f-dbef-999a48068874"
   },
   "outputs": [
    {
     "name": "stdout",
     "output_type": "stream",
     "text": [
      "test text unique vocab count is: 14715\n",
      "test reply unique vocab count is: 111826\n"
     ]
    }
   ],
   "source": [
    "test_text_vocab = get_vocab(df_test['map_more_punc_text'].values)\n",
    "test_reply_vocab = get_vocab(df_test['map_more_punc_reply'].values)\n",
    "print(\"test text unique vocab count is: {}\".format(len(test_text_vocab)))\n",
    "print(\"test reply unique vocab count is: {}\".format(len(test_reply_vocab)))\n",
    "# unknown_text = check_coverage(test_text_vocab, roberta_vocab)\n",
    "# print()\n",
    "# unknown_reply = check_coverage(test_reply_vocab, roberta_vocab)"
   ]
  },
  {
   "cell_type": "code",
   "execution_count": 53,
   "metadata": {
    "id": "g1IVsOLo67sz"
   },
   "outputs": [],
   "source": [
    "# sorted(unknown_text.items(), key=lambda d: d[1], reverse=True) "
   ]
  },
  {
   "cell_type": "markdown",
   "metadata": {
    "id": "zeunDksT67sz"
   },
   "source": [
    "## Store preprocessed results"
   ]
  },
  {
   "cell_type": "code",
   "execution_count": 54,
   "metadata": {
    "colab": {
     "base_uri": "https://localhost:8080/",
     "height": 650
    },
    "executionInfo": {
     "elapsed": 25,
     "status": "ok",
     "timestamp": 1622179943187,
     "user": {
      "displayName": "zhou",
      "photoUrl": "",
      "userId": "02657240798759677010"
     },
     "user_tz": -480
    },
    "id": "EsBAaqrn67s0",
    "outputId": "96541bd2-c68a-435b-95fb-70f3ba89e981",
    "scrolled": true
   },
   "outputs": [
    {
     "data": {
      "text/html": [
       "<div>\n",
       "<style scoped>\n",
       "    .dataframe tbody tr th:only-of-type {\n",
       "        vertical-align: middle;\n",
       "    }\n",
       "\n",
       "    .dataframe tbody tr th {\n",
       "        vertical-align: top;\n",
       "    }\n",
       "\n",
       "    .dataframe thead th {\n",
       "        text-align: right;\n",
       "    }\n",
       "</style>\n",
       "<table border=\"1\" class=\"dataframe\">\n",
       "  <thead>\n",
       "    <tr style=\"text-align: right;\">\n",
       "      <th></th>\n",
       "      <th>idx</th>\n",
       "      <th>text</th>\n",
       "      <th>categories</th>\n",
       "      <th>context_idx</th>\n",
       "      <th>reply</th>\n",
       "      <th>mp4</th>\n",
       "      <th>label</th>\n",
       "      <th>map_punc_text</th>\n",
       "      <th>map_punc_reply</th>\n",
       "      <th>map_more_punc_text</th>\n",
       "      <th>map_more_punc_reply</th>\n",
       "    </tr>\n",
       "  </thead>\n",
       "  <tbody>\n",
       "    <tr>\n",
       "      <th>0</th>\n",
       "      <td>8981</td>\n",
       "      <td>How incredibly despicable these  traitors are....</td>\n",
       "      <td>[]</td>\n",
       "      <td>0</td>\n",
       "      <td>@JosephJFlynn1 @GenFlynn @BarbaraRedgate @GoJa...</td>\n",
       "      <td></td>\n",
       "      <td>fake</td>\n",
       "      <td>How incredibly despicable these  traitors are ...</td>\n",
       "      <td>@ JosephJFlynn1  @ GenFlynn  @ BarbaraRedgate...</td>\n",
       "      <td>How incredibly despicable these  traitors are ...</td>\n",
       "      <td>@ JosephJFlynn1  @ GenFlynn  @ BarbaraRedgate...</td>\n",
       "    </tr>\n",
       "    <tr>\n",
       "      <th>1</th>\n",
       "      <td>8981</td>\n",
       "      <td>How incredibly despicable these  traitors are....</td>\n",
       "      <td>[]</td>\n",
       "      <td>1</td>\n",
       "      <td>@JosephJFlynn1 @GenFlynn @BarbaraRedgate @GoJa...</td>\n",
       "      <td></td>\n",
       "      <td>fake</td>\n",
       "      <td>How incredibly despicable these  traitors are ...</td>\n",
       "      <td>@ JosephJFlynn1  @ GenFlynn  @ BarbaraRedgate...</td>\n",
       "      <td>How incredibly despicable these  traitors are ...</td>\n",
       "      <td>@ JosephJFlynn1  @ GenFlynn  @ BarbaraRedgate...</td>\n",
       "    </tr>\n",
       "    <tr>\n",
       "      <th>2</th>\n",
       "      <td>8981</td>\n",
       "      <td>How incredibly despicable these  traitors are....</td>\n",
       "      <td>[]</td>\n",
       "      <td>2</td>\n",
       "      <td>@JosephJFlynn1 @GenFlynn @BarbaraRedgate @GoJa...</td>\n",
       "      <td></td>\n",
       "      <td>fake</td>\n",
       "      <td>How incredibly despicable these  traitors are ...</td>\n",
       "      <td>@ JosephJFlynn1  @ GenFlynn  @ BarbaraRedgate...</td>\n",
       "      <td>How incredibly despicable these  traitors are ...</td>\n",
       "      <td>@ JosephJFlynn1  @ GenFlynn  @ BarbaraRedgate...</td>\n",
       "    </tr>\n",
       "    <tr>\n",
       "      <th>3</th>\n",
       "      <td>8981</td>\n",
       "      <td>How incredibly despicable these  traitors are....</td>\n",
       "      <td>[]</td>\n",
       "      <td>3</td>\n",
       "      <td>@JosephJFlynn1 @Dean_Moriarty36 @GenFlynn @Bar...</td>\n",
       "      <td></td>\n",
       "      <td>fake</td>\n",
       "      <td>How incredibly despicable these  traitors are ...</td>\n",
       "      <td>@ JosephJFlynn1  @ Dean  -  Moriarty36  @ Gen...</td>\n",
       "      <td>How incredibly despicable these  traitors are ...</td>\n",
       "      <td>@ JosephJFlynn1  @ Dean  -  Moriarty36  @ Gen...</td>\n",
       "    </tr>\n",
       "    <tr>\n",
       "      <th>4</th>\n",
       "      <td>8981</td>\n",
       "      <td>How incredibly despicable these  traitors are....</td>\n",
       "      <td>[]</td>\n",
       "      <td>5</td>\n",
       "      <td>@JosephJFlynn1 @kldreams61 @GenFlynn @BarbaraR...</td>\n",
       "      <td></td>\n",
       "      <td>fake</td>\n",
       "      <td>How incredibly despicable these  traitors are ...</td>\n",
       "      <td>@ JosephJFlynn1  @ kldreams61  @ GenFlynn  @ ...</td>\n",
       "      <td>How incredibly despicable these  traitors are ...</td>\n",
       "      <td>@ JosephJFlynn1  @ kldreams61  @ GenFlynn  @ ...</td>\n",
       "    </tr>\n",
       "  </tbody>\n",
       "</table>\n",
       "</div>"
      ],
      "text/plain": [
       "    idx                                               text categories  \\\n",
       "0  8981  How incredibly despicable these  traitors are....         []   \n",
       "1  8981  How incredibly despicable these  traitors are....         []   \n",
       "2  8981  How incredibly despicable these  traitors are....         []   \n",
       "3  8981  How incredibly despicable these  traitors are....         []   \n",
       "4  8981  How incredibly despicable these  traitors are....         []   \n",
       "\n",
       "   context_idx                                              reply mp4 label  \\\n",
       "0            0  @JosephJFlynn1 @GenFlynn @BarbaraRedgate @GoJa...      fake   \n",
       "1            1  @JosephJFlynn1 @GenFlynn @BarbaraRedgate @GoJa...      fake   \n",
       "2            2  @JosephJFlynn1 @GenFlynn @BarbaraRedgate @GoJa...      fake   \n",
       "3            3  @JosephJFlynn1 @Dean_Moriarty36 @GenFlynn @Bar...      fake   \n",
       "4            5  @JosephJFlynn1 @kldreams61 @GenFlynn @BarbaraR...      fake   \n",
       "\n",
       "                                       map_punc_text  \\\n",
       "0  How incredibly despicable these  traitors are ...   \n",
       "1  How incredibly despicable these  traitors are ...   \n",
       "2  How incredibly despicable these  traitors are ...   \n",
       "3  How incredibly despicable these  traitors are ...   \n",
       "4  How incredibly despicable these  traitors are ...   \n",
       "\n",
       "                                      map_punc_reply  \\\n",
       "0   @ JosephJFlynn1  @ GenFlynn  @ BarbaraRedgate...   \n",
       "1   @ JosephJFlynn1  @ GenFlynn  @ BarbaraRedgate...   \n",
       "2   @ JosephJFlynn1  @ GenFlynn  @ BarbaraRedgate...   \n",
       "3   @ JosephJFlynn1  @ Dean  -  Moriarty36  @ Gen...   \n",
       "4   @ JosephJFlynn1  @ kldreams61  @ GenFlynn  @ ...   \n",
       "\n",
       "                                  map_more_punc_text  \\\n",
       "0  How incredibly despicable these  traitors are ...   \n",
       "1  How incredibly despicable these  traitors are ...   \n",
       "2  How incredibly despicable these  traitors are ...   \n",
       "3  How incredibly despicable these  traitors are ...   \n",
       "4  How incredibly despicable these  traitors are ...   \n",
       "\n",
       "                                 map_more_punc_reply  \n",
       "0   @ JosephJFlynn1  @ GenFlynn  @ BarbaraRedgate...  \n",
       "1   @ JosephJFlynn1  @ GenFlynn  @ BarbaraRedgate...  \n",
       "2   @ JosephJFlynn1  @ GenFlynn  @ BarbaraRedgate...  \n",
       "3   @ JosephJFlynn1  @ Dean  -  Moriarty36  @ Gen...  \n",
       "4   @ JosephJFlynn1  @ kldreams61  @ GenFlynn  @ ...  "
      ]
     },
     "execution_count": 54,
     "metadata": {},
     "output_type": "execute_result"
    }
   ],
   "source": [
    "df_train.head()"
   ]
  },
  {
   "cell_type": "code",
   "execution_count": 55,
   "metadata": {
    "colab": {
     "base_uri": "https://localhost:8080/",
     "height": 445
    },
    "executionInfo": {
     "elapsed": 16,
     "status": "ok",
     "timestamp": 1622179943188,
     "user": {
      "displayName": "zhou",
      "photoUrl": "",
      "userId": "02657240798759677010"
     },
     "user_tz": -480
    },
    "id": "-BV8P17967s0",
    "outputId": "ef9037c3-b4e3-4243-fed8-2e77c77c29e8"
   },
   "outputs": [
    {
     "data": {
      "text/html": [
       "<div>\n",
       "<style scoped>\n",
       "    .dataframe tbody tr th:only-of-type {\n",
       "        vertical-align: middle;\n",
       "    }\n",
       "\n",
       "    .dataframe tbody tr th {\n",
       "        vertical-align: top;\n",
       "    }\n",
       "\n",
       "    .dataframe thead th {\n",
       "        text-align: right;\n",
       "    }\n",
       "</style>\n",
       "<table border=\"1\" class=\"dataframe\">\n",
       "  <thead>\n",
       "    <tr style=\"text-align: right;\">\n",
       "      <th></th>\n",
       "      <th>idx</th>\n",
       "      <th>text</th>\n",
       "      <th>categories</th>\n",
       "      <th>context_idx</th>\n",
       "      <th>reply</th>\n",
       "      <th>mp4</th>\n",
       "      <th>map_punc_text</th>\n",
       "      <th>map_punc_reply</th>\n",
       "      <th>map_more_punc_text</th>\n",
       "      <th>map_more_punc_reply</th>\n",
       "    </tr>\n",
       "  </thead>\n",
       "  <tbody>\n",
       "    <tr>\n",
       "      <th>0</th>\n",
       "      <td>0</td>\n",
       "      <td>If there was any moment that I needed love and...</td>\n",
       "      <td>[hug]</td>\n",
       "      <td>0</td>\n",
       "      <td>Hey, Court!! If you need anything, you know i ...</td>\n",
       "      <td>7d21ea02003e5574293e10c2583fe415.mp4</td>\n",
       "      <td>If there was any moment that I needed love and...</td>\n",
       "      <td>Hey ,  Court !  !  If you need anything ,  you...</td>\n",
       "      <td>If there was any moment that I needed love and...</td>\n",
       "      <td>Hey ,  Court !  !  If you need anything ,  you...</td>\n",
       "    </tr>\n",
       "    <tr>\n",
       "      <th>1</th>\n",
       "      <td>1</td>\n",
       "      <td>Hi Guys up for a chat ..... if yes see you at ...</td>\n",
       "      <td>[dance]</td>\n",
       "      <td>0</td>\n",
       "      <td>Yeahh..... We are Waiting\\n#AskSid</td>\n",
       "      <td>6cf1ca01c8ea9513f3e355e2d56d3dd4.mp4</td>\n",
       "      <td>Hi Guys up for a chat  .  .  .  .  .  if yes s...</td>\n",
       "      <td>Yeahh .  .  .  .  .  We are Waiting\\n # AskSid</td>\n",
       "      <td>Hi Guys up for a chat  .  .  .  .  .  if yes s...</td>\n",
       "      <td>Yeahh .  .  .  .  .  We are Waiting\\n # AskSid</td>\n",
       "    </tr>\n",
       "    <tr>\n",
       "      <th>2</th>\n",
       "      <td>2</td>\n",
       "      <td>Did I get myself physically stuck in a filing ...</td>\n",
       "      <td>[no]</td>\n",
       "      <td>0</td>\n",
       "      <td></td>\n",
       "      <td>7e86aaeb736f91d36b56684ce1199602.mp4</td>\n",
       "      <td>Did I get myself physically stuck in a filing ...</td>\n",
       "      <td></td>\n",
       "      <td>Did I get myself physically stuck in a filing ...</td>\n",
       "      <td></td>\n",
       "    </tr>\n",
       "    <tr>\n",
       "      <th>3</th>\n",
       "      <td>3</td>\n",
       "      <td>Day one on medication and I no longer have dep...</td>\n",
       "      <td>[applause]</td>\n",
       "      <td>0</td>\n",
       "      <td></td>\n",
       "      <td>ba1e36cbdb03043a858f1d40e1bb2420.mp4</td>\n",
       "      <td>Day one on medication and I no longer have dep...</td>\n",
       "      <td></td>\n",
       "      <td>Day one on medication and I no longer have dep...</td>\n",
       "      <td></td>\n",
       "    </tr>\n",
       "    <tr>\n",
       "      <th>4</th>\n",
       "      <td>4</td>\n",
       "      <td>Drop your cash app, use hashtag #BailoutHumansNow</td>\n",
       "      <td>[applause, dance, happy_dance]</td>\n",
       "      <td>0</td>\n",
       "      <td>$tyratomaro #BailoutHumans</td>\n",
       "      <td>096e67b87796d76f363d62d61f952ea3.mp4</td>\n",
       "      <td>Drop your cash app ,  use hashtag  # BailoutHu...</td>\n",
       "      <td>$ tyratomaro  # BailoutHumans</td>\n",
       "      <td>Drop your cash app ,  use hashtag  # BailoutHu...</td>\n",
       "      <td>$ tyratomaro  # BailoutHumans</td>\n",
       "    </tr>\n",
       "  </tbody>\n",
       "</table>\n",
       "</div>"
      ],
      "text/plain": [
       "   idx                                               text  \\\n",
       "0    0  If there was any moment that I needed love and...   \n",
       "1    1  Hi Guys up for a chat ..... if yes see you at ...   \n",
       "2    2  Did I get myself physically stuck in a filing ...   \n",
       "3    3  Day one on medication and I no longer have dep...   \n",
       "4    4  Drop your cash app, use hashtag #BailoutHumansNow   \n",
       "\n",
       "                       categories  context_idx  \\\n",
       "0                           [hug]            0   \n",
       "1                         [dance]            0   \n",
       "2                            [no]            0   \n",
       "3                      [applause]            0   \n",
       "4  [applause, dance, happy_dance]            0   \n",
       "\n",
       "                                               reply  \\\n",
       "0  Hey, Court!! If you need anything, you know i ...   \n",
       "1                 Yeahh..... We are Waiting\\n#AskSid   \n",
       "2                                                      \n",
       "3                                                      \n",
       "4                         $tyratomaro #BailoutHumans   \n",
       "\n",
       "                                    mp4  \\\n",
       "0  7d21ea02003e5574293e10c2583fe415.mp4   \n",
       "1  6cf1ca01c8ea9513f3e355e2d56d3dd4.mp4   \n",
       "2  7e86aaeb736f91d36b56684ce1199602.mp4   \n",
       "3  ba1e36cbdb03043a858f1d40e1bb2420.mp4   \n",
       "4  096e67b87796d76f363d62d61f952ea3.mp4   \n",
       "\n",
       "                                       map_punc_text  \\\n",
       "0  If there was any moment that I needed love and...   \n",
       "1  Hi Guys up for a chat  .  .  .  .  .  if yes s...   \n",
       "2  Did I get myself physically stuck in a filing ...   \n",
       "3  Day one on medication and I no longer have dep...   \n",
       "4  Drop your cash app ,  use hashtag  # BailoutHu...   \n",
       "\n",
       "                                      map_punc_reply  \\\n",
       "0  Hey ,  Court !  !  If you need anything ,  you...   \n",
       "1     Yeahh .  .  .  .  .  We are Waiting\\n # AskSid   \n",
       "2                                                      \n",
       "3                                                      \n",
       "4                      $ tyratomaro  # BailoutHumans   \n",
       "\n",
       "                                  map_more_punc_text  \\\n",
       "0  If there was any moment that I needed love and...   \n",
       "1  Hi Guys up for a chat  .  .  .  .  .  if yes s...   \n",
       "2  Did I get myself physically stuck in a filing ...   \n",
       "3  Day one on medication and I no longer have dep...   \n",
       "4  Drop your cash app ,  use hashtag  # BailoutHu...   \n",
       "\n",
       "                                 map_more_punc_reply  \n",
       "0  Hey ,  Court !  !  If you need anything ,  you...  \n",
       "1     Yeahh .  .  .  .  .  We are Waiting\\n # AskSid  \n",
       "2                                                     \n",
       "3                                                     \n",
       "4                      $ tyratomaro  # BailoutHumans  "
      ]
     },
     "execution_count": 55,
     "metadata": {},
     "output_type": "execute_result"
    }
   ],
   "source": [
    "df_dev.head()"
   ]
  },
  {
   "cell_type": "code",
   "execution_count": 56,
   "metadata": {
    "colab": {
     "base_uri": "https://localhost:8080/",
     "height": 564
    },
    "executionInfo": {
     "elapsed": 15,
     "status": "ok",
     "timestamp": 1622179943189,
     "user": {
      "displayName": "zhou",
      "photoUrl": "",
      "userId": "02657240798759677010"
     },
     "user_tz": -480
    },
    "id": "VTTFOqb267s1",
    "outputId": "fac59aa2-e092-4955-d27b-f0aa66fa4b3a"
   },
   "outputs": [
    {
     "data": {
      "text/html": [
       "<div>\n",
       "<style scoped>\n",
       "    .dataframe tbody tr th:only-of-type {\n",
       "        vertical-align: middle;\n",
       "    }\n",
       "\n",
       "    .dataframe tbody tr th {\n",
       "        vertical-align: top;\n",
       "    }\n",
       "\n",
       "    .dataframe thead th {\n",
       "        text-align: right;\n",
       "    }\n",
       "</style>\n",
       "<table border=\"1\" class=\"dataframe\">\n",
       "  <thead>\n",
       "    <tr style=\"text-align: right;\">\n",
       "      <th></th>\n",
       "      <th>idx</th>\n",
       "      <th>text</th>\n",
       "      <th>categories</th>\n",
       "      <th>context_idx</th>\n",
       "      <th>reply</th>\n",
       "      <th>mp4</th>\n",
       "      <th>map_punc_text</th>\n",
       "      <th>map_punc_reply</th>\n",
       "      <th>map_more_punc_text</th>\n",
       "      <th>map_more_punc_reply</th>\n",
       "    </tr>\n",
       "  </thead>\n",
       "  <tbody>\n",
       "    <tr>\n",
       "      <th>0</th>\n",
       "      <td>44000</td>\n",
       "      <td>If a passerby had not posted #HillaryClinton f...</td>\n",
       "      <td>[]</td>\n",
       "      <td>0</td>\n",
       "      <td>@RealJamesWoods @CNN Trump Warns Iranian Presi...</td>\n",
       "      <td></td>\n",
       "      <td>If a passerby had not posted  # HillaryClinton...</td>\n",
       "      <td>@ RealJamesWoods  @ CNN Trump Warns Iranian P...</td>\n",
       "      <td>If a passerby had not posted  # HillaryClinton...</td>\n",
       "      <td>@ RealJamesWoods  @ CNN Trump Warns Iranian P...</td>\n",
       "    </tr>\n",
       "    <tr>\n",
       "      <th>1</th>\n",
       "      <td>44000</td>\n",
       "      <td>If a passerby had not posted #HillaryClinton f...</td>\n",
       "      <td>[]</td>\n",
       "      <td>1</td>\n",
       "      <td>@RealJamesWoods @CNN Why Did 'Russian Agent' B...</td>\n",
       "      <td></td>\n",
       "      <td>If a passerby had not posted  # HillaryClinton...</td>\n",
       "      <td>@ RealJamesWoods  @ CNN Why Did   '  Russian ...</td>\n",
       "      <td>If a passerby had not posted  # HillaryClinton...</td>\n",
       "      <td>@ RealJamesWoods  @ CNN Why Did   '  Russian ...</td>\n",
       "    </tr>\n",
       "    <tr>\n",
       "      <th>2</th>\n",
       "      <td>44000</td>\n",
       "      <td>If a passerby had not posted #HillaryClinton f...</td>\n",
       "      <td>[]</td>\n",
       "      <td>2</td>\n",
       "      <td>@RealJamesWoods @CNN This is nothing but truth.</td>\n",
       "      <td></td>\n",
       "      <td>If a passerby had not posted  # HillaryClinton...</td>\n",
       "      <td>@ RealJamesWoods  @ CNN This is nothing but t...</td>\n",
       "      <td>If a passerby had not posted  # HillaryClinton...</td>\n",
       "      <td>@ RealJamesWoods  @ CNN This is nothing but t...</td>\n",
       "    </tr>\n",
       "    <tr>\n",
       "      <th>3</th>\n",
       "      <td>44000</td>\n",
       "      <td>If a passerby had not posted #HillaryClinton f...</td>\n",
       "      <td>[]</td>\n",
       "      <td>3</td>\n",
       "      <td>@RealJamesWoods @CNN Good to see you @RealJame...</td>\n",
       "      <td></td>\n",
       "      <td>If a passerby had not posted  # HillaryClinton...</td>\n",
       "      <td>@ RealJamesWoods  @ CNN Good to see you  @ Re...</td>\n",
       "      <td>If a passerby had not posted  # HillaryClinton...</td>\n",
       "      <td>@ RealJamesWoods  @ CNN Good to see you  @ Re...</td>\n",
       "    </tr>\n",
       "    <tr>\n",
       "      <th>4</th>\n",
       "      <td>44000</td>\n",
       "      <td>If a passerby had not posted #HillaryClinton f...</td>\n",
       "      <td>[]</td>\n",
       "      <td>4</td>\n",
       "      <td>@RealJamesWoods @CNN Israeli Jets Strike Syria...</td>\n",
       "      <td></td>\n",
       "      <td>If a passerby had not posted  # HillaryClinton...</td>\n",
       "      <td>@ RealJamesWoods  @ CNN Israeli Jets Strike S...</td>\n",
       "      <td>If a passerby had not posted  # HillaryClinton...</td>\n",
       "      <td>@ RealJamesWoods  @ CNN Israeli Jets Strike S...</td>\n",
       "    </tr>\n",
       "  </tbody>\n",
       "</table>\n",
       "</div>"
      ],
      "text/plain": [
       "     idx                                               text categories  \\\n",
       "0  44000  If a passerby had not posted #HillaryClinton f...         []   \n",
       "1  44000  If a passerby had not posted #HillaryClinton f...         []   \n",
       "2  44000  If a passerby had not posted #HillaryClinton f...         []   \n",
       "3  44000  If a passerby had not posted #HillaryClinton f...         []   \n",
       "4  44000  If a passerby had not posted #HillaryClinton f...         []   \n",
       "\n",
       "   context_idx                                              reply mp4  \\\n",
       "0            0  @RealJamesWoods @CNN Trump Warns Iranian Presi...       \n",
       "1            1  @RealJamesWoods @CNN Why Did 'Russian Agent' B...       \n",
       "2            2    @RealJamesWoods @CNN This is nothing but truth.       \n",
       "3            3  @RealJamesWoods @CNN Good to see you @RealJame...       \n",
       "4            4  @RealJamesWoods @CNN Israeli Jets Strike Syria...       \n",
       "\n",
       "                                       map_punc_text  \\\n",
       "0  If a passerby had not posted  # HillaryClinton...   \n",
       "1  If a passerby had not posted  # HillaryClinton...   \n",
       "2  If a passerby had not posted  # HillaryClinton...   \n",
       "3  If a passerby had not posted  # HillaryClinton...   \n",
       "4  If a passerby had not posted  # HillaryClinton...   \n",
       "\n",
       "                                      map_punc_reply  \\\n",
       "0   @ RealJamesWoods  @ CNN Trump Warns Iranian P...   \n",
       "1   @ RealJamesWoods  @ CNN Why Did   '  Russian ...   \n",
       "2   @ RealJamesWoods  @ CNN This is nothing but t...   \n",
       "3   @ RealJamesWoods  @ CNN Good to see you  @ Re...   \n",
       "4   @ RealJamesWoods  @ CNN Israeli Jets Strike S...   \n",
       "\n",
       "                                  map_more_punc_text  \\\n",
       "0  If a passerby had not posted  # HillaryClinton...   \n",
       "1  If a passerby had not posted  # HillaryClinton...   \n",
       "2  If a passerby had not posted  # HillaryClinton...   \n",
       "3  If a passerby had not posted  # HillaryClinton...   \n",
       "4  If a passerby had not posted  # HillaryClinton...   \n",
       "\n",
       "                                 map_more_punc_reply  \n",
       "0   @ RealJamesWoods  @ CNN Trump Warns Iranian P...  \n",
       "1   @ RealJamesWoods  @ CNN Why Did   '  Russian ...  \n",
       "2   @ RealJamesWoods  @ CNN This is nothing but t...  \n",
       "3   @ RealJamesWoods  @ CNN Good to see you  @ Re...  \n",
       "4   @ RealJamesWoods  @ CNN Israeli Jets Strike S...  "
      ]
     },
     "execution_count": 56,
     "metadata": {},
     "output_type": "execute_result"
    }
   ],
   "source": [
    "df_test.head()"
   ]
  },
  {
   "cell_type": "markdown",
   "metadata": {
    "id": "Pgl5Edm667s1"
   },
   "source": [
    "## Output preprocessed to json"
   ]
  },
  {
   "cell_type": "code",
   "execution_count": 58,
   "metadata": {
    "id": "06abUisp67s2",
    "scrolled": true
   },
   "outputs": [],
   "source": [
    "df_preprocessed = df_train[['idx', 'map_more_punc_text', 'map_more_punc_reply', 'label']].copy()\n",
    "df_preprocessed.columns = ['idx', 'text', 'reply', 'label']\n",
    "df_preprocessed.to_json('evaluation/source/preprocess_train.json', orient='records', lines=True)"
   ]
  },
  {
   "cell_type": "code",
   "execution_count": 38,
   "metadata": {
    "colab": {
     "base_uri": "https://localhost:8080/",
     "height": 195
    },
    "executionInfo": {
     "elapsed": 576,
     "status": "ok",
     "timestamp": 1622184396867,
     "user": {
      "displayName": "許桓瑜",
      "photoUrl": "",
      "userId": "07820383409841659888"
     },
     "user_tz": -480
    },
    "id": "S6oAwbKvuVe8",
    "outputId": "bbb3e3cc-fbad-41e2-d08c-624295984304"
   },
   "outputs": [
    {
     "data": {
      "text/html": [
       "<div>\n",
       "<style scoped>\n",
       "    .dataframe tbody tr th:only-of-type {\n",
       "        vertical-align: middle;\n",
       "    }\n",
       "\n",
       "    .dataframe tbody tr th {\n",
       "        vertical-align: top;\n",
       "    }\n",
       "\n",
       "    .dataframe thead th {\n",
       "        text-align: right;\n",
       "    }\n",
       "</style>\n",
       "<table border=\"1\" class=\"dataframe\">\n",
       "  <thead>\n",
       "    <tr style=\"text-align: right;\">\n",
       "      <th></th>\n",
       "      <th>idx</th>\n",
       "      <th>text</th>\n",
       "      <th>categories</th>\n",
       "      <th>context_idx</th>\n",
       "      <th>reply</th>\n",
       "      <th>mp4</th>\n",
       "      <th>label</th>\n",
       "    </tr>\n",
       "  </thead>\n",
       "  <tbody>\n",
       "    <tr>\n",
       "      <th>0</th>\n",
       "      <td>8981</td>\n",
       "      <td>How incredibly despicable these  traitors are....</td>\n",
       "      <td>[]</td>\n",
       "      <td>0</td>\n",
       "      <td>@JosephJFlynn1 @GenFlynn @BarbaraRedgate @GoJa...</td>\n",
       "      <td></td>\n",
       "      <td>fake</td>\n",
       "    </tr>\n",
       "    <tr>\n",
       "      <th>1</th>\n",
       "      <td>8981</td>\n",
       "      <td>How incredibly despicable these  traitors are....</td>\n",
       "      <td>[]</td>\n",
       "      <td>1</td>\n",
       "      <td>@JosephJFlynn1 @GenFlynn @BarbaraRedgate @GoJa...</td>\n",
       "      <td></td>\n",
       "      <td>fake</td>\n",
       "    </tr>\n",
       "    <tr>\n",
       "      <th>2</th>\n",
       "      <td>8981</td>\n",
       "      <td>How incredibly despicable these  traitors are....</td>\n",
       "      <td>[]</td>\n",
       "      <td>2</td>\n",
       "      <td>@JosephJFlynn1 @GenFlynn @BarbaraRedgate @GoJa...</td>\n",
       "      <td></td>\n",
       "      <td>fake</td>\n",
       "    </tr>\n",
       "    <tr>\n",
       "      <th>3</th>\n",
       "      <td>8981</td>\n",
       "      <td>How incredibly despicable these  traitors are....</td>\n",
       "      <td>[]</td>\n",
       "      <td>3</td>\n",
       "      <td>@JosephJFlynn1 @Dean_Moriarty36 @GenFlynn @Bar...</td>\n",
       "      <td></td>\n",
       "      <td>fake</td>\n",
       "    </tr>\n",
       "    <tr>\n",
       "      <th>4</th>\n",
       "      <td>8981</td>\n",
       "      <td>How incredibly despicable these  traitors are....</td>\n",
       "      <td>[]</td>\n",
       "      <td>5</td>\n",
       "      <td>@JosephJFlynn1 @kldreams61 @GenFlynn @BarbaraR...</td>\n",
       "      <td></td>\n",
       "      <td>fake</td>\n",
       "    </tr>\n",
       "  </tbody>\n",
       "</table>\n",
       "</div>"
      ],
      "text/plain": [
       "    idx                                               text  ... mp4  label\n",
       "0  8981  How incredibly despicable these  traitors are....  ...       fake\n",
       "1  8981  How incredibly despicable these  traitors are....  ...       fake\n",
       "2  8981  How incredibly despicable these  traitors are....  ...       fake\n",
       "3  8981  How incredibly despicable these  traitors are....  ...       fake\n",
       "4  8981  How incredibly despicable these  traitors are....  ...       fake\n",
       "\n",
       "[5 rows x 7 columns]"
      ]
     },
     "execution_count": 38,
     "metadata": {
      "tags": []
     },
     "output_type": "execute_result"
    }
   ],
   "source": [
    "df_train.head()"
   ]
  },
  {
   "cell_type": "code",
   "execution_count": 59,
   "metadata": {
    "id": "SKc8ZQS_67s2"
   },
   "outputs": [],
   "source": [
    "df_preprocessed_dev = df_dev[['idx', 'map_more_punc_text', 'map_more_punc_reply']].copy()\n",
    "df_preprocessed_dev.columns = ['idx', 'text', 'reply']\n",
    "df_preprocessed_dev.to_json('evaluation/source/preprocess_dev.json', orient='records', lines=True)"
   ]
  },
  {
   "cell_type": "code",
   "execution_count": 60,
   "metadata": {
    "id": "y2hYN9Gx67s2"
   },
   "outputs": [],
   "source": [
    "df_preprocessed_test = df_test[['idx', 'map_more_punc_text', 'map_more_punc_reply']].copy()\n",
    "df_preprocessed_test.columns = ['idx', 'text', 'reply']\n",
    "df_preprocessed_test.to_json('evaluation/source/preprocess_test.json', orient='records', lines=True)"
   ]
  },
  {
   "cell_type": "code",
   "execution_count": null,
   "metadata": {},
   "outputs": [],
   "source": []
  }
 ],
 "metadata": {
  "colab": {
   "name": "Data-Round 1.ipynb",
   "provenance": []
  },
  "kernelspec": {
   "display_name": "Python 3",
   "language": "python",
   "name": "python3"
  },
  "language_info": {
   "codemirror_mode": {
    "name": "ipython",
    "version": 3
   },
   "file_extension": ".py",
   "mimetype": "text/x-python",
   "name": "python",
   "nbconvert_exporter": "python",
   "pygments_lexer": "ipython3",
   "version": "3.8.8"
  },
  "widgets": {
   "application/vnd.jupyter.widget-state+json": {
    "03cd0371856741c0989ab6ebebb326ed": {
     "model_module": "@jupyter-widgets/base",
     "model_name": "LayoutModel",
     "state": {
      "_model_module": "@jupyter-widgets/base",
      "_model_module_version": "1.2.0",
      "_model_name": "LayoutModel",
      "_view_count": null,
      "_view_module": "@jupyter-widgets/base",
      "_view_module_version": "1.2.0",
      "_view_name": "LayoutView",
      "align_content": null,
      "align_items": null,
      "align_self": null,
      "border": null,
      "bottom": null,
      "display": null,
      "flex": null,
      "flex_flow": null,
      "grid_area": null,
      "grid_auto_columns": null,
      "grid_auto_flow": null,
      "grid_auto_rows": null,
      "grid_column": null,
      "grid_gap": null,
      "grid_row": null,
      "grid_template_areas": null,
      "grid_template_columns": null,
      "grid_template_rows": null,
      "height": null,
      "justify_content": null,
      "justify_items": null,
      "left": null,
      "margin": null,
      "max_height": null,
      "max_width": null,
      "min_height": null,
      "min_width": null,
      "object_fit": null,
      "object_position": null,
      "order": null,
      "overflow": null,
      "overflow_x": null,
      "overflow_y": null,
      "padding": null,
      "right": null,
      "top": null,
      "visibility": null,
      "width": null
     }
    },
    "04462e14abc844a3891c44daa33f82be": {
     "model_module": "@jupyter-widgets/controls",
     "model_name": "ProgressStyleModel",
     "state": {
      "_model_module": "@jupyter-widgets/controls",
      "_model_module_version": "1.5.0",
      "_model_name": "ProgressStyleModel",
      "_view_count": null,
      "_view_module": "@jupyter-widgets/base",
      "_view_module_version": "1.2.0",
      "_view_name": "StyleView",
      "bar_color": null,
      "description_width": "initial"
     }
    },
    "0c02ff2b9dec4c02b506c290f168c032": {
     "model_module": "@jupyter-widgets/controls",
     "model_name": "ProgressStyleModel",
     "state": {
      "_model_module": "@jupyter-widgets/controls",
      "_model_module_version": "1.5.0",
      "_model_name": "ProgressStyleModel",
      "_view_count": null,
      "_view_module": "@jupyter-widgets/base",
      "_view_module_version": "1.2.0",
      "_view_name": "StyleView",
      "bar_color": null,
      "description_width": "initial"
     }
    },
    "148c44d13395459bb2739805e380b9f7": {
     "model_module": "@jupyter-widgets/base",
     "model_name": "LayoutModel",
     "state": {
      "_model_module": "@jupyter-widgets/base",
      "_model_module_version": "1.2.0",
      "_model_name": "LayoutModel",
      "_view_count": null,
      "_view_module": "@jupyter-widgets/base",
      "_view_module_version": "1.2.0",
      "_view_name": "LayoutView",
      "align_content": null,
      "align_items": null,
      "align_self": null,
      "border": null,
      "bottom": null,
      "display": null,
      "flex": null,
      "flex_flow": null,
      "grid_area": null,
      "grid_auto_columns": null,
      "grid_auto_flow": null,
      "grid_auto_rows": null,
      "grid_column": null,
      "grid_gap": null,
      "grid_row": null,
      "grid_template_areas": null,
      "grid_template_columns": null,
      "grid_template_rows": null,
      "height": null,
      "justify_content": null,
      "justify_items": null,
      "left": null,
      "margin": null,
      "max_height": null,
      "max_width": null,
      "min_height": null,
      "min_width": null,
      "object_fit": null,
      "object_position": null,
      "order": null,
      "overflow": null,
      "overflow_x": null,
      "overflow_y": null,
      "padding": null,
      "right": null,
      "top": null,
      "visibility": null,
      "width": null
     }
    },
    "1c5ab046501a43309fa9545c30b08bb8": {
     "model_module": "@jupyter-widgets/base",
     "model_name": "LayoutModel",
     "state": {
      "_model_module": "@jupyter-widgets/base",
      "_model_module_version": "1.2.0",
      "_model_name": "LayoutModel",
      "_view_count": null,
      "_view_module": "@jupyter-widgets/base",
      "_view_module_version": "1.2.0",
      "_view_name": "LayoutView",
      "align_content": null,
      "align_items": null,
      "align_self": null,
      "border": null,
      "bottom": null,
      "display": null,
      "flex": null,
      "flex_flow": null,
      "grid_area": null,
      "grid_auto_columns": null,
      "grid_auto_flow": null,
      "grid_auto_rows": null,
      "grid_column": null,
      "grid_gap": null,
      "grid_row": null,
      "grid_template_areas": null,
      "grid_template_columns": null,
      "grid_template_rows": null,
      "height": null,
      "justify_content": null,
      "justify_items": null,
      "left": null,
      "margin": null,
      "max_height": null,
      "max_width": null,
      "min_height": null,
      "min_width": null,
      "object_fit": null,
      "object_position": null,
      "order": null,
      "overflow": null,
      "overflow_x": null,
      "overflow_y": null,
      "padding": null,
      "right": null,
      "top": null,
      "visibility": null,
      "width": null
     }
    },
    "20ab3d465059436785e27f4f03296d5b": {
     "model_module": "@jupyter-widgets/base",
     "model_name": "LayoutModel",
     "state": {
      "_model_module": "@jupyter-widgets/base",
      "_model_module_version": "1.2.0",
      "_model_name": "LayoutModel",
      "_view_count": null,
      "_view_module": "@jupyter-widgets/base",
      "_view_module_version": "1.2.0",
      "_view_name": "LayoutView",
      "align_content": null,
      "align_items": null,
      "align_self": null,
      "border": null,
      "bottom": null,
      "display": null,
      "flex": null,
      "flex_flow": null,
      "grid_area": null,
      "grid_auto_columns": null,
      "grid_auto_flow": null,
      "grid_auto_rows": null,
      "grid_column": null,
      "grid_gap": null,
      "grid_row": null,
      "grid_template_areas": null,
      "grid_template_columns": null,
      "grid_template_rows": null,
      "height": null,
      "justify_content": null,
      "justify_items": null,
      "left": null,
      "margin": null,
      "max_height": null,
      "max_width": null,
      "min_height": null,
      "min_width": null,
      "object_fit": null,
      "object_position": null,
      "order": null,
      "overflow": null,
      "overflow_x": null,
      "overflow_y": null,
      "padding": null,
      "right": null,
      "top": null,
      "visibility": null,
      "width": null
     }
    },
    "2dc7203f9eab47f9a697da8fcd6b7411": {
     "model_module": "@jupyter-widgets/controls",
     "model_name": "HTMLModel",
     "state": {
      "_dom_classes": [],
      "_model_module": "@jupyter-widgets/controls",
      "_model_module_version": "1.5.0",
      "_model_name": "HTMLModel",
      "_view_count": null,
      "_view_module": "@jupyter-widgets/controls",
      "_view_module_version": "1.5.0",
      "_view_name": "HTMLView",
      "description": "",
      "description_tooltip": null,
      "layout": "IPY_MODEL_6b47ea819f9b4526b078ea7c943fe736",
      "placeholder": "​",
      "style": "IPY_MODEL_e109042d61a94cb78158b536bc753e3f",
      "value": " 501M/501M [00:18&lt;00:00, 27.3MB/s]"
     }
    },
    "371f38bb750b497589a44a04444528aa": {
     "model_module": "@jupyter-widgets/controls",
     "model_name": "HTMLModel",
     "state": {
      "_dom_classes": [],
      "_model_module": "@jupyter-widgets/controls",
      "_model_module_version": "1.5.0",
      "_model_name": "HTMLModel",
      "_view_count": null,
      "_view_module": "@jupyter-widgets/controls",
      "_view_module_version": "1.5.0",
      "_view_name": "HTMLView",
      "description": "",
      "description_tooltip": null,
      "layout": "IPY_MODEL_03cd0371856741c0989ab6ebebb326ed",
      "placeholder": "​",
      "style": "IPY_MODEL_c4a7062833bf4b70b0d7a33cd0769099",
      "value": " 481/481 [00:18&lt;00:00, 25.7B/s]"
     }
    },
    "41234bbe7cba4a7eabff290abe5273d8": {
     "model_module": "@jupyter-widgets/controls",
     "model_name": "HTMLModel",
     "state": {
      "_dom_classes": [],
      "_model_module": "@jupyter-widgets/controls",
      "_model_module_version": "1.5.0",
      "_model_name": "HTMLModel",
      "_view_count": null,
      "_view_module": "@jupyter-widgets/controls",
      "_view_module_version": "1.5.0",
      "_view_name": "HTMLView",
      "description": "",
      "description_tooltip": null,
      "layout": "IPY_MODEL_a031a20914984c7b91461f3d95557c35",
      "placeholder": "​",
      "style": "IPY_MODEL_a61ada87fccb4b2e9bf624215e681b4f",
      "value": " 899k/899k [00:01&lt;00:00, 736kB/s]"
     }
    },
    "4eccecdbd7a44fb796fe6992206cb510": {
     "model_module": "@jupyter-widgets/controls",
     "model_name": "HBoxModel",
     "state": {
      "_dom_classes": [],
      "_model_module": "@jupyter-widgets/controls",
      "_model_module_version": "1.5.0",
      "_model_name": "HBoxModel",
      "_view_count": null,
      "_view_module": "@jupyter-widgets/controls",
      "_view_module_version": "1.5.0",
      "_view_name": "HBoxView",
      "box_style": "",
      "children": [
       "IPY_MODEL_c4b3e571e23f4c2faba24f4c70a37774",
       "IPY_MODEL_61ecc62a8d9942a095886f5ca7b704d2"
      ],
      "layout": "IPY_MODEL_a06d0765ad8a478a9d3ff657ce830c5c"
     }
    },
    "5233fb2004ff4247a9ae1819af4a3b8b": {
     "model_module": "@jupyter-widgets/base",
     "model_name": "LayoutModel",
     "state": {
      "_model_module": "@jupyter-widgets/base",
      "_model_module_version": "1.2.0",
      "_model_name": "LayoutModel",
      "_view_count": null,
      "_view_module": "@jupyter-widgets/base",
      "_view_module_version": "1.2.0",
      "_view_name": "LayoutView",
      "align_content": null,
      "align_items": null,
      "align_self": null,
      "border": null,
      "bottom": null,
      "display": null,
      "flex": null,
      "flex_flow": null,
      "grid_area": null,
      "grid_auto_columns": null,
      "grid_auto_flow": null,
      "grid_auto_rows": null,
      "grid_column": null,
      "grid_gap": null,
      "grid_row": null,
      "grid_template_areas": null,
      "grid_template_columns": null,
      "grid_template_rows": null,
      "height": null,
      "justify_content": null,
      "justify_items": null,
      "left": null,
      "margin": null,
      "max_height": null,
      "max_width": null,
      "min_height": null,
      "min_width": null,
      "object_fit": null,
      "object_position": null,
      "order": null,
      "overflow": null,
      "overflow_x": null,
      "overflow_y": null,
      "padding": null,
      "right": null,
      "top": null,
      "visibility": null,
      "width": null
     }
    },
    "549704acb33548639851404d41d73c58": {
     "model_module": "@jupyter-widgets/controls",
     "model_name": "DescriptionStyleModel",
     "state": {
      "_model_module": "@jupyter-widgets/controls",
      "_model_module_version": "1.5.0",
      "_model_name": "DescriptionStyleModel",
      "_view_count": null,
      "_view_module": "@jupyter-widgets/base",
      "_view_module_version": "1.2.0",
      "_view_name": "StyleView",
      "description_width": ""
     }
    },
    "55f523ebf71849d7bf0c5ec18f674cb7": {
     "model_module": "@jupyter-widgets/controls",
     "model_name": "HBoxModel",
     "state": {
      "_dom_classes": [],
      "_model_module": "@jupyter-widgets/controls",
      "_model_module_version": "1.5.0",
      "_model_name": "HBoxModel",
      "_view_count": null,
      "_view_module": "@jupyter-widgets/controls",
      "_view_module_version": "1.5.0",
      "_view_name": "HBoxView",
      "box_style": "",
      "children": [
       "IPY_MODEL_7ea4cde15ffd42ebb7727c91608e5382",
       "IPY_MODEL_41234bbe7cba4a7eabff290abe5273d8"
      ],
      "layout": "IPY_MODEL_20ab3d465059436785e27f4f03296d5b"
     }
    },
    "578d1380703b474ea04af75ad9ed4890": {
     "model_module": "@jupyter-widgets/controls",
     "model_name": "FloatProgressModel",
     "state": {
      "_dom_classes": [],
      "_model_module": "@jupyter-widgets/controls",
      "_model_module_version": "1.5.0",
      "_model_name": "FloatProgressModel",
      "_view_count": null,
      "_view_module": "@jupyter-widgets/controls",
      "_view_module_version": "1.5.0",
      "_view_name": "ProgressView",
      "bar_style": "success",
      "description": "Downloading: 100%",
      "description_tooltip": null,
      "layout": "IPY_MODEL_ad413f94c09447ed9ce7f0cad8796bb9",
      "max": 481,
      "min": 0,
      "orientation": "horizontal",
      "style": "IPY_MODEL_04462e14abc844a3891c44daa33f82be",
      "value": 481
     }
    },
    "5b5d2ce06f834bfd93ce71c326d2c79b": {
     "model_module": "@jupyter-widgets/base",
     "model_name": "LayoutModel",
     "state": {
      "_model_module": "@jupyter-widgets/base",
      "_model_module_version": "1.2.0",
      "_model_name": "LayoutModel",
      "_view_count": null,
      "_view_module": "@jupyter-widgets/base",
      "_view_module_version": "1.2.0",
      "_view_name": "LayoutView",
      "align_content": null,
      "align_items": null,
      "align_self": null,
      "border": null,
      "bottom": null,
      "display": null,
      "flex": null,
      "flex_flow": null,
      "grid_area": null,
      "grid_auto_columns": null,
      "grid_auto_flow": null,
      "grid_auto_rows": null,
      "grid_column": null,
      "grid_gap": null,
      "grid_row": null,
      "grid_template_areas": null,
      "grid_template_columns": null,
      "grid_template_rows": null,
      "height": null,
      "justify_content": null,
      "justify_items": null,
      "left": null,
      "margin": null,
      "max_height": null,
      "max_width": null,
      "min_height": null,
      "min_width": null,
      "object_fit": null,
      "object_position": null,
      "order": null,
      "overflow": null,
      "overflow_x": null,
      "overflow_y": null,
      "padding": null,
      "right": null,
      "top": null,
      "visibility": null,
      "width": null
     }
    },
    "5c19e775516d4f36a765edc48d93debf": {
     "model_module": "@jupyter-widgets/base",
     "model_name": "LayoutModel",
     "state": {
      "_model_module": "@jupyter-widgets/base",
      "_model_module_version": "1.2.0",
      "_model_name": "LayoutModel",
      "_view_count": null,
      "_view_module": "@jupyter-widgets/base",
      "_view_module_version": "1.2.0",
      "_view_name": "LayoutView",
      "align_content": null,
      "align_items": null,
      "align_self": null,
      "border": null,
      "bottom": null,
      "display": null,
      "flex": null,
      "flex_flow": null,
      "grid_area": null,
      "grid_auto_columns": null,
      "grid_auto_flow": null,
      "grid_auto_rows": null,
      "grid_column": null,
      "grid_gap": null,
      "grid_row": null,
      "grid_template_areas": null,
      "grid_template_columns": null,
      "grid_template_rows": null,
      "height": null,
      "justify_content": null,
      "justify_items": null,
      "left": null,
      "margin": null,
      "max_height": null,
      "max_width": null,
      "min_height": null,
      "min_width": null,
      "object_fit": null,
      "object_position": null,
      "order": null,
      "overflow": null,
      "overflow_x": null,
      "overflow_y": null,
      "padding": null,
      "right": null,
      "top": null,
      "visibility": null,
      "width": null
     }
    },
    "5db09b56f05548a4ad94c4872cbcbab0": {
     "model_module": "@jupyter-widgets/base",
     "model_name": "LayoutModel",
     "state": {
      "_model_module": "@jupyter-widgets/base",
      "_model_module_version": "1.2.0",
      "_model_name": "LayoutModel",
      "_view_count": null,
      "_view_module": "@jupyter-widgets/base",
      "_view_module_version": "1.2.0",
      "_view_name": "LayoutView",
      "align_content": null,
      "align_items": null,
      "align_self": null,
      "border": null,
      "bottom": null,
      "display": null,
      "flex": null,
      "flex_flow": null,
      "grid_area": null,
      "grid_auto_columns": null,
      "grid_auto_flow": null,
      "grid_auto_rows": null,
      "grid_column": null,
      "grid_gap": null,
      "grid_row": null,
      "grid_template_areas": null,
      "grid_template_columns": null,
      "grid_template_rows": null,
      "height": null,
      "justify_content": null,
      "justify_items": null,
      "left": null,
      "margin": null,
      "max_height": null,
      "max_width": null,
      "min_height": null,
      "min_width": null,
      "object_fit": null,
      "object_position": null,
      "order": null,
      "overflow": null,
      "overflow_x": null,
      "overflow_y": null,
      "padding": null,
      "right": null,
      "top": null,
      "visibility": null,
      "width": null
     }
    },
    "61ecc62a8d9942a095886f5ca7b704d2": {
     "model_module": "@jupyter-widgets/controls",
     "model_name": "HTMLModel",
     "state": {
      "_dom_classes": [],
      "_model_module": "@jupyter-widgets/controls",
      "_model_module_version": "1.5.0",
      "_model_name": "HTMLModel",
      "_view_count": null,
      "_view_module": "@jupyter-widgets/controls",
      "_view_module_version": "1.5.0",
      "_view_name": "HTMLView",
      "description": "",
      "description_tooltip": null,
      "layout": "IPY_MODEL_5c19e775516d4f36a765edc48d93debf",
      "placeholder": "​",
      "style": "IPY_MODEL_549704acb33548639851404d41d73c58",
      "value": " 456k/456k [00:00&lt;00:00, 535kB/s]"
     }
    },
    "6b47ea819f9b4526b078ea7c943fe736": {
     "model_module": "@jupyter-widgets/base",
     "model_name": "LayoutModel",
     "state": {
      "_model_module": "@jupyter-widgets/base",
      "_model_module_version": "1.2.0",
      "_model_name": "LayoutModel",
      "_view_count": null,
      "_view_module": "@jupyter-widgets/base",
      "_view_module_version": "1.2.0",
      "_view_name": "LayoutView",
      "align_content": null,
      "align_items": null,
      "align_self": null,
      "border": null,
      "bottom": null,
      "display": null,
      "flex": null,
      "flex_flow": null,
      "grid_area": null,
      "grid_auto_columns": null,
      "grid_auto_flow": null,
      "grid_auto_rows": null,
      "grid_column": null,
      "grid_gap": null,
      "grid_row": null,
      "grid_template_areas": null,
      "grid_template_columns": null,
      "grid_template_rows": null,
      "height": null,
      "justify_content": null,
      "justify_items": null,
      "left": null,
      "margin": null,
      "max_height": null,
      "max_width": null,
      "min_height": null,
      "min_width": null,
      "object_fit": null,
      "object_position": null,
      "order": null,
      "overflow": null,
      "overflow_x": null,
      "overflow_y": null,
      "padding": null,
      "right": null,
      "top": null,
      "visibility": null,
      "width": null
     }
    },
    "7ea4cde15ffd42ebb7727c91608e5382": {
     "model_module": "@jupyter-widgets/controls",
     "model_name": "FloatProgressModel",
     "state": {
      "_dom_classes": [],
      "_model_module": "@jupyter-widgets/controls",
      "_model_module_version": "1.5.0",
      "_model_name": "FloatProgressModel",
      "_view_count": null,
      "_view_module": "@jupyter-widgets/controls",
      "_view_module_version": "1.5.0",
      "_view_name": "ProgressView",
      "bar_style": "success",
      "description": "Downloading: 100%",
      "description_tooltip": null,
      "layout": "IPY_MODEL_db907427c14e4df1a0df34b58914eee3",
      "max": 898823,
      "min": 0,
      "orientation": "horizontal",
      "style": "IPY_MODEL_d26b841d21fc48c0a89a51545d00269b",
      "value": 898823
     }
    },
    "95ef0f4adb7949689bdf53b1cec37dd8": {
     "model_module": "@jupyter-widgets/controls",
     "model_name": "HBoxModel",
     "state": {
      "_dom_classes": [],
      "_model_module": "@jupyter-widgets/controls",
      "_model_module_version": "1.5.0",
      "_model_name": "HBoxModel",
      "_view_count": null,
      "_view_module": "@jupyter-widgets/controls",
      "_view_module_version": "1.5.0",
      "_view_name": "HBoxView",
      "box_style": "",
      "children": [
       "IPY_MODEL_db44b43d25ea41f4b5267c1f90e605cf",
       "IPY_MODEL_2dc7203f9eab47f9a697da8fcd6b7411"
      ],
      "layout": "IPY_MODEL_ec0e7f3a589443d89f041ac9f1aee965"
     }
    },
    "a031a20914984c7b91461f3d95557c35": {
     "model_module": "@jupyter-widgets/base",
     "model_name": "LayoutModel",
     "state": {
      "_model_module": "@jupyter-widgets/base",
      "_model_module_version": "1.2.0",
      "_model_name": "LayoutModel",
      "_view_count": null,
      "_view_module": "@jupyter-widgets/base",
      "_view_module_version": "1.2.0",
      "_view_name": "LayoutView",
      "align_content": null,
      "align_items": null,
      "align_self": null,
      "border": null,
      "bottom": null,
      "display": null,
      "flex": null,
      "flex_flow": null,
      "grid_area": null,
      "grid_auto_columns": null,
      "grid_auto_flow": null,
      "grid_auto_rows": null,
      "grid_column": null,
      "grid_gap": null,
      "grid_row": null,
      "grid_template_areas": null,
      "grid_template_columns": null,
      "grid_template_rows": null,
      "height": null,
      "justify_content": null,
      "justify_items": null,
      "left": null,
      "margin": null,
      "max_height": null,
      "max_width": null,
      "min_height": null,
      "min_width": null,
      "object_fit": null,
      "object_position": null,
      "order": null,
      "overflow": null,
      "overflow_x": null,
      "overflow_y": null,
      "padding": null,
      "right": null,
      "top": null,
      "visibility": null,
      "width": null
     }
    },
    "a06d0765ad8a478a9d3ff657ce830c5c": {
     "model_module": "@jupyter-widgets/base",
     "model_name": "LayoutModel",
     "state": {
      "_model_module": "@jupyter-widgets/base",
      "_model_module_version": "1.2.0",
      "_model_name": "LayoutModel",
      "_view_count": null,
      "_view_module": "@jupyter-widgets/base",
      "_view_module_version": "1.2.0",
      "_view_name": "LayoutView",
      "align_content": null,
      "align_items": null,
      "align_self": null,
      "border": null,
      "bottom": null,
      "display": null,
      "flex": null,
      "flex_flow": null,
      "grid_area": null,
      "grid_auto_columns": null,
      "grid_auto_flow": null,
      "grid_auto_rows": null,
      "grid_column": null,
      "grid_gap": null,
      "grid_row": null,
      "grid_template_areas": null,
      "grid_template_columns": null,
      "grid_template_rows": null,
      "height": null,
      "justify_content": null,
      "justify_items": null,
      "left": null,
      "margin": null,
      "max_height": null,
      "max_width": null,
      "min_height": null,
      "min_width": null,
      "object_fit": null,
      "object_position": null,
      "order": null,
      "overflow": null,
      "overflow_x": null,
      "overflow_y": null,
      "padding": null,
      "right": null,
      "top": null,
      "visibility": null,
      "width": null
     }
    },
    "a473b90e3cf84b6eb82698aafd98dbb5": {
     "model_module": "@jupyter-widgets/controls",
     "model_name": "HTMLModel",
     "state": {
      "_dom_classes": [],
      "_model_module": "@jupyter-widgets/controls",
      "_model_module_version": "1.5.0",
      "_model_name": "HTMLModel",
      "_view_count": null,
      "_view_module": "@jupyter-widgets/controls",
      "_view_module_version": "1.5.0",
      "_view_name": "HTMLView",
      "description": "",
      "description_tooltip": null,
      "layout": "IPY_MODEL_b5f6e18dd1bf4c68aa14a9945b1be06c",
      "placeholder": "​",
      "style": "IPY_MODEL_a8518d501ea14eca89211403a819d101",
      "value": " 1.36M/1.36M [00:00&lt;00:00, 6.98MB/s]"
     }
    },
    "a61ada87fccb4b2e9bf624215e681b4f": {
     "model_module": "@jupyter-widgets/controls",
     "model_name": "DescriptionStyleModel",
     "state": {
      "_model_module": "@jupyter-widgets/controls",
      "_model_module_version": "1.5.0",
      "_model_name": "DescriptionStyleModel",
      "_view_count": null,
      "_view_module": "@jupyter-widgets/base",
      "_view_module_version": "1.2.0",
      "_view_name": "StyleView",
      "description_width": ""
     }
    },
    "a8518d501ea14eca89211403a819d101": {
     "model_module": "@jupyter-widgets/controls",
     "model_name": "DescriptionStyleModel",
     "state": {
      "_model_module": "@jupyter-widgets/controls",
      "_model_module_version": "1.5.0",
      "_model_name": "DescriptionStyleModel",
      "_view_count": null,
      "_view_module": "@jupyter-widgets/base",
      "_view_module_version": "1.2.0",
      "_view_name": "StyleView",
      "description_width": ""
     }
    },
    "ad413f94c09447ed9ce7f0cad8796bb9": {
     "model_module": "@jupyter-widgets/base",
     "model_name": "LayoutModel",
     "state": {
      "_model_module": "@jupyter-widgets/base",
      "_model_module_version": "1.2.0",
      "_model_name": "LayoutModel",
      "_view_count": null,
      "_view_module": "@jupyter-widgets/base",
      "_view_module_version": "1.2.0",
      "_view_name": "LayoutView",
      "align_content": null,
      "align_items": null,
      "align_self": null,
      "border": null,
      "bottom": null,
      "display": null,
      "flex": null,
      "flex_flow": null,
      "grid_area": null,
      "grid_auto_columns": null,
      "grid_auto_flow": null,
      "grid_auto_rows": null,
      "grid_column": null,
      "grid_gap": null,
      "grid_row": null,
      "grid_template_areas": null,
      "grid_template_columns": null,
      "grid_template_rows": null,
      "height": null,
      "justify_content": null,
      "justify_items": null,
      "left": null,
      "margin": null,
      "max_height": null,
      "max_width": null,
      "min_height": null,
      "min_width": null,
      "object_fit": null,
      "object_position": null,
      "order": null,
      "overflow": null,
      "overflow_x": null,
      "overflow_y": null,
      "padding": null,
      "right": null,
      "top": null,
      "visibility": null,
      "width": null
     }
    },
    "b5f6e18dd1bf4c68aa14a9945b1be06c": {
     "model_module": "@jupyter-widgets/base",
     "model_name": "LayoutModel",
     "state": {
      "_model_module": "@jupyter-widgets/base",
      "_model_module_version": "1.2.0",
      "_model_name": "LayoutModel",
      "_view_count": null,
      "_view_module": "@jupyter-widgets/base",
      "_view_module_version": "1.2.0",
      "_view_name": "LayoutView",
      "align_content": null,
      "align_items": null,
      "align_self": null,
      "border": null,
      "bottom": null,
      "display": null,
      "flex": null,
      "flex_flow": null,
      "grid_area": null,
      "grid_auto_columns": null,
      "grid_auto_flow": null,
      "grid_auto_rows": null,
      "grid_column": null,
      "grid_gap": null,
      "grid_row": null,
      "grid_template_areas": null,
      "grid_template_columns": null,
      "grid_template_rows": null,
      "height": null,
      "justify_content": null,
      "justify_items": null,
      "left": null,
      "margin": null,
      "max_height": null,
      "max_width": null,
      "min_height": null,
      "min_width": null,
      "object_fit": null,
      "object_position": null,
      "order": null,
      "overflow": null,
      "overflow_x": null,
      "overflow_y": null,
      "padding": null,
      "right": null,
      "top": null,
      "visibility": null,
      "width": null
     }
    },
    "c4a7062833bf4b70b0d7a33cd0769099": {
     "model_module": "@jupyter-widgets/controls",
     "model_name": "DescriptionStyleModel",
     "state": {
      "_model_module": "@jupyter-widgets/controls",
      "_model_module_version": "1.5.0",
      "_model_name": "DescriptionStyleModel",
      "_view_count": null,
      "_view_module": "@jupyter-widgets/base",
      "_view_module_version": "1.2.0",
      "_view_name": "StyleView",
      "description_width": ""
     }
    },
    "c4b3e571e23f4c2faba24f4c70a37774": {
     "model_module": "@jupyter-widgets/controls",
     "model_name": "FloatProgressModel",
     "state": {
      "_dom_classes": [],
      "_model_module": "@jupyter-widgets/controls",
      "_model_module_version": "1.5.0",
      "_model_name": "FloatProgressModel",
      "_view_count": null,
      "_view_module": "@jupyter-widgets/controls",
      "_view_module_version": "1.5.0",
      "_view_name": "ProgressView",
      "bar_style": "success",
      "description": "Downloading: 100%",
      "description_tooltip": null,
      "layout": "IPY_MODEL_5233fb2004ff4247a9ae1819af4a3b8b",
      "max": 456318,
      "min": 0,
      "orientation": "horizontal",
      "style": "IPY_MODEL_0c02ff2b9dec4c02b506c290f168c032",
      "value": 456318
     }
    },
    "cc4d8b0593ef4b14affb7ad847f59f56": {
     "model_module": "@jupyter-widgets/controls",
     "model_name": "HBoxModel",
     "state": {
      "_dom_classes": [],
      "_model_module": "@jupyter-widgets/controls",
      "_model_module_version": "1.5.0",
      "_model_name": "HBoxModel",
      "_view_count": null,
      "_view_module": "@jupyter-widgets/controls",
      "_view_module_version": "1.5.0",
      "_view_name": "HBoxView",
      "box_style": "",
      "children": [
       "IPY_MODEL_578d1380703b474ea04af75ad9ed4890",
       "IPY_MODEL_371f38bb750b497589a44a04444528aa"
      ],
      "layout": "IPY_MODEL_5db09b56f05548a4ad94c4872cbcbab0"
     }
    },
    "d26b841d21fc48c0a89a51545d00269b": {
     "model_module": "@jupyter-widgets/controls",
     "model_name": "ProgressStyleModel",
     "state": {
      "_model_module": "@jupyter-widgets/controls",
      "_model_module_version": "1.5.0",
      "_model_name": "ProgressStyleModel",
      "_view_count": null,
      "_view_module": "@jupyter-widgets/base",
      "_view_module_version": "1.2.0",
      "_view_name": "StyleView",
      "bar_color": null,
      "description_width": "initial"
     }
    },
    "db44b43d25ea41f4b5267c1f90e605cf": {
     "model_module": "@jupyter-widgets/controls",
     "model_name": "FloatProgressModel",
     "state": {
      "_dom_classes": [],
      "_model_module": "@jupyter-widgets/controls",
      "_model_module_version": "1.5.0",
      "_model_name": "FloatProgressModel",
      "_view_count": null,
      "_view_module": "@jupyter-widgets/controls",
      "_view_module_version": "1.5.0",
      "_view_name": "ProgressView",
      "bar_style": "success",
      "description": "Downloading: 100%",
      "description_tooltip": null,
      "layout": "IPY_MODEL_148c44d13395459bb2739805e380b9f7",
      "max": 501200538,
      "min": 0,
      "orientation": "horizontal",
      "style": "IPY_MODEL_e1e2229453fb4b4eb76a81274c30f50c",
      "value": 501200538
     }
    },
    "db907427c14e4df1a0df34b58914eee3": {
     "model_module": "@jupyter-widgets/base",
     "model_name": "LayoutModel",
     "state": {
      "_model_module": "@jupyter-widgets/base",
      "_model_module_version": "1.2.0",
      "_model_name": "LayoutModel",
      "_view_count": null,
      "_view_module": "@jupyter-widgets/base",
      "_view_module_version": "1.2.0",
      "_view_name": "LayoutView",
      "align_content": null,
      "align_items": null,
      "align_self": null,
      "border": null,
      "bottom": null,
      "display": null,
      "flex": null,
      "flex_flow": null,
      "grid_area": null,
      "grid_auto_columns": null,
      "grid_auto_flow": null,
      "grid_auto_rows": null,
      "grid_column": null,
      "grid_gap": null,
      "grid_row": null,
      "grid_template_areas": null,
      "grid_template_columns": null,
      "grid_template_rows": null,
      "height": null,
      "justify_content": null,
      "justify_items": null,
      "left": null,
      "margin": null,
      "max_height": null,
      "max_width": null,
      "min_height": null,
      "min_width": null,
      "object_fit": null,
      "object_position": null,
      "order": null,
      "overflow": null,
      "overflow_x": null,
      "overflow_y": null,
      "padding": null,
      "right": null,
      "top": null,
      "visibility": null,
      "width": null
     }
    },
    "dfff683b1cb0481995b26c1e165bcab5": {
     "model_module": "@jupyter-widgets/controls",
     "model_name": "HBoxModel",
     "state": {
      "_dom_classes": [],
      "_model_module": "@jupyter-widgets/controls",
      "_model_module_version": "1.5.0",
      "_model_name": "HBoxModel",
      "_view_count": null,
      "_view_module": "@jupyter-widgets/controls",
      "_view_module_version": "1.5.0",
      "_view_name": "HBoxView",
      "box_style": "",
      "children": [
       "IPY_MODEL_f317e4c674bc4c029f989d4eb1ed1889",
       "IPY_MODEL_a473b90e3cf84b6eb82698aafd98dbb5"
      ],
      "layout": "IPY_MODEL_1c5ab046501a43309fa9545c30b08bb8"
     }
    },
    "e109042d61a94cb78158b536bc753e3f": {
     "model_module": "@jupyter-widgets/controls",
     "model_name": "DescriptionStyleModel",
     "state": {
      "_model_module": "@jupyter-widgets/controls",
      "_model_module_version": "1.5.0",
      "_model_name": "DescriptionStyleModel",
      "_view_count": null,
      "_view_module": "@jupyter-widgets/base",
      "_view_module_version": "1.2.0",
      "_view_name": "StyleView",
      "description_width": ""
     }
    },
    "e1e2229453fb4b4eb76a81274c30f50c": {
     "model_module": "@jupyter-widgets/controls",
     "model_name": "ProgressStyleModel",
     "state": {
      "_model_module": "@jupyter-widgets/controls",
      "_model_module_version": "1.5.0",
      "_model_name": "ProgressStyleModel",
      "_view_count": null,
      "_view_module": "@jupyter-widgets/base",
      "_view_module_version": "1.2.0",
      "_view_name": "StyleView",
      "bar_color": null,
      "description_width": "initial"
     }
    },
    "ebeb0ddb43aa4c04b5966638ee655ba4": {
     "model_module": "@jupyter-widgets/controls",
     "model_name": "ProgressStyleModel",
     "state": {
      "_model_module": "@jupyter-widgets/controls",
      "_model_module_version": "1.5.0",
      "_model_name": "ProgressStyleModel",
      "_view_count": null,
      "_view_module": "@jupyter-widgets/base",
      "_view_module_version": "1.2.0",
      "_view_name": "StyleView",
      "bar_color": null,
      "description_width": "initial"
     }
    },
    "ec0e7f3a589443d89f041ac9f1aee965": {
     "model_module": "@jupyter-widgets/base",
     "model_name": "LayoutModel",
     "state": {
      "_model_module": "@jupyter-widgets/base",
      "_model_module_version": "1.2.0",
      "_model_name": "LayoutModel",
      "_view_count": null,
      "_view_module": "@jupyter-widgets/base",
      "_view_module_version": "1.2.0",
      "_view_name": "LayoutView",
      "align_content": null,
      "align_items": null,
      "align_self": null,
      "border": null,
      "bottom": null,
      "display": null,
      "flex": null,
      "flex_flow": null,
      "grid_area": null,
      "grid_auto_columns": null,
      "grid_auto_flow": null,
      "grid_auto_rows": null,
      "grid_column": null,
      "grid_gap": null,
      "grid_row": null,
      "grid_template_areas": null,
      "grid_template_columns": null,
      "grid_template_rows": null,
      "height": null,
      "justify_content": null,
      "justify_items": null,
      "left": null,
      "margin": null,
      "max_height": null,
      "max_width": null,
      "min_height": null,
      "min_width": null,
      "object_fit": null,
      "object_position": null,
      "order": null,
      "overflow": null,
      "overflow_x": null,
      "overflow_y": null,
      "padding": null,
      "right": null,
      "top": null,
      "visibility": null,
      "width": null
     }
    },
    "f317e4c674bc4c029f989d4eb1ed1889": {
     "model_module": "@jupyter-widgets/controls",
     "model_name": "FloatProgressModel",
     "state": {
      "_dom_classes": [],
      "_model_module": "@jupyter-widgets/controls",
      "_model_module_version": "1.5.0",
      "_model_name": "FloatProgressModel",
      "_view_count": null,
      "_view_module": "@jupyter-widgets/controls",
      "_view_module_version": "1.5.0",
      "_view_name": "ProgressView",
      "bar_style": "success",
      "description": "Downloading: 100%",
      "description_tooltip": null,
      "layout": "IPY_MODEL_5b5d2ce06f834bfd93ce71c326d2c79b",
      "max": 1355863,
      "min": 0,
      "orientation": "horizontal",
      "style": "IPY_MODEL_ebeb0ddb43aa4c04b5966638ee655ba4",
      "value": 1355863
     }
    }
   }
  }
 },
 "nbformat": 4,
 "nbformat_minor": 1
}
